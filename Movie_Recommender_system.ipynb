{
 "cells": [
  {
   "cell_type": "markdown",
   "id": "57db7f5b-8773-475e-8fea-bf9664e67e36",
   "metadata": {},
   "source": [
    "# Content Based Movies Recommender System"
   ]
  },
  {
   "cell_type": "code",
   "execution_count": 1,
   "id": "e512aa8a-d864-4579-a770-e15663567ca5",
   "metadata": {},
   "outputs": [],
   "source": [
    "import pandas as pd\n",
    "import numpy as np\n",
    "import ast\n",
    "import warnings\n",
    "warnings.filterwarnings('ignore')"
   ]
  },
  {
   "cell_type": "markdown",
   "id": "8e82d990-a5a0-4951-a97c-783b17e39c47",
   "metadata": {},
   "source": [
    "## Importing DataSets"
   ]
  },
  {
   "cell_type": "code",
   "execution_count": 2,
   "id": "807e726c-b659-4050-b108-eace24c2c546",
   "metadata": {},
   "outputs": [],
   "source": [
    "movies = pd.read_csv('movies_data.csv')\n",
    "credits = pd.read_csv('credits_data.csv')"
   ]
  },
  {
   "cell_type": "code",
   "execution_count": 3,
   "id": "aba51731-ece1-4bc4-981e-841424f41a3c",
   "metadata": {
    "scrolled": true
   },
   "outputs": [
    {
     "data": {
      "text/html": [
       "<div>\n",
       "<style scoped>\n",
       "    .dataframe tbody tr th:only-of-type {\n",
       "        vertical-align: middle;\n",
       "    }\n",
       "\n",
       "    .dataframe tbody tr th {\n",
       "        vertical-align: top;\n",
       "    }\n",
       "\n",
       "    .dataframe thead th {\n",
       "        text-align: right;\n",
       "    }\n",
       "</style>\n",
       "<table border=\"1\" class=\"dataframe\">\n",
       "  <thead>\n",
       "    <tr style=\"text-align: right;\">\n",
       "      <th></th>\n",
       "      <th>budget</th>\n",
       "      <th>genres</th>\n",
       "      <th>homepage</th>\n",
       "      <th>id</th>\n",
       "      <th>keywords</th>\n",
       "      <th>original_language</th>\n",
       "      <th>original_title</th>\n",
       "      <th>overview</th>\n",
       "      <th>popularity</th>\n",
       "      <th>production_companies</th>\n",
       "      <th>production_countries</th>\n",
       "      <th>release_date</th>\n",
       "      <th>revenue</th>\n",
       "      <th>runtime</th>\n",
       "      <th>spoken_languages</th>\n",
       "      <th>status</th>\n",
       "      <th>tagline</th>\n",
       "      <th>title</th>\n",
       "      <th>vote_average</th>\n",
       "      <th>vote_count</th>\n",
       "    </tr>\n",
       "  </thead>\n",
       "  <tbody>\n",
       "    <tr>\n",
       "      <th>0</th>\n",
       "      <td>237000000</td>\n",
       "      <td>[{\"id\": 28, \"name\": \"Action\"}, {\"id\": 12, \"nam...</td>\n",
       "      <td>http://www.avatarmovie.com/</td>\n",
       "      <td>19995</td>\n",
       "      <td>[{\"id\": 1463, \"name\": \"culture clash\"}, {\"id\":...</td>\n",
       "      <td>en</td>\n",
       "      <td>Avatar</td>\n",
       "      <td>In the 22nd century, a paraplegic Marine is di...</td>\n",
       "      <td>150.437577</td>\n",
       "      <td>[{\"name\": \"Ingenious Film Partners\", \"id\": 289...</td>\n",
       "      <td>[{\"iso_3166_1\": \"US\", \"name\": \"United States o...</td>\n",
       "      <td>2009-12-10</td>\n",
       "      <td>2787965087</td>\n",
       "      <td>162.0</td>\n",
       "      <td>[{\"iso_639_1\": \"en\", \"name\": \"English\"}, {\"iso...</td>\n",
       "      <td>Released</td>\n",
       "      <td>Enter the World of Pandora.</td>\n",
       "      <td>Avatar</td>\n",
       "      <td>7.2</td>\n",
       "      <td>11800</td>\n",
       "    </tr>\n",
       "  </tbody>\n",
       "</table>\n",
       "</div>"
      ],
      "text/plain": [
       "      budget                                             genres  \\\n",
       "0  237000000  [{\"id\": 28, \"name\": \"Action\"}, {\"id\": 12, \"nam...   \n",
       "\n",
       "                      homepage     id  \\\n",
       "0  http://www.avatarmovie.com/  19995   \n",
       "\n",
       "                                            keywords original_language  \\\n",
       "0  [{\"id\": 1463, \"name\": \"culture clash\"}, {\"id\":...                en   \n",
       "\n",
       "  original_title                                           overview  \\\n",
       "0         Avatar  In the 22nd century, a paraplegic Marine is di...   \n",
       "\n",
       "   popularity                               production_companies  \\\n",
       "0  150.437577  [{\"name\": \"Ingenious Film Partners\", \"id\": 289...   \n",
       "\n",
       "                                production_countries release_date     revenue  \\\n",
       "0  [{\"iso_3166_1\": \"US\", \"name\": \"United States o...   2009-12-10  2787965087   \n",
       "\n",
       "   runtime                                   spoken_languages    status  \\\n",
       "0    162.0  [{\"iso_639_1\": \"en\", \"name\": \"English\"}, {\"iso...  Released   \n",
       "\n",
       "                       tagline   title  vote_average  vote_count  \n",
       "0  Enter the World of Pandora.  Avatar           7.2       11800  "
      ]
     },
     "execution_count": 3,
     "metadata": {},
     "output_type": "execute_result"
    }
   ],
   "source": [
    "movies.head(1)"
   ]
  },
  {
   "cell_type": "code",
   "execution_count": 4,
   "id": "c227c72c-8abe-489e-ab86-3d760a9f6f80",
   "metadata": {},
   "outputs": [
    {
     "data": {
      "text/html": [
       "<div>\n",
       "<style scoped>\n",
       "    .dataframe tbody tr th:only-of-type {\n",
       "        vertical-align: middle;\n",
       "    }\n",
       "\n",
       "    .dataframe tbody tr th {\n",
       "        vertical-align: top;\n",
       "    }\n",
       "\n",
       "    .dataframe thead th {\n",
       "        text-align: right;\n",
       "    }\n",
       "</style>\n",
       "<table border=\"1\" class=\"dataframe\">\n",
       "  <thead>\n",
       "    <tr style=\"text-align: right;\">\n",
       "      <th></th>\n",
       "      <th>movie_id</th>\n",
       "      <th>title</th>\n",
       "      <th>cast</th>\n",
       "      <th>crew</th>\n",
       "    </tr>\n",
       "  </thead>\n",
       "  <tbody>\n",
       "    <tr>\n",
       "      <th>0</th>\n",
       "      <td>19995</td>\n",
       "      <td>Avatar</td>\n",
       "      <td>[{\"cast_id\": 242, \"character\": \"Jake Sully\", \"...</td>\n",
       "      <td>[{\"credit_id\": \"52fe48009251416c750aca23\", \"de...</td>\n",
       "    </tr>\n",
       "  </tbody>\n",
       "</table>\n",
       "</div>"
      ],
      "text/plain": [
       "   movie_id   title                                               cast  \\\n",
       "0     19995  Avatar  [{\"cast_id\": 242, \"character\": \"Jake Sully\", \"...   \n",
       "\n",
       "                                                crew  \n",
       "0  [{\"credit_id\": \"52fe48009251416c750aca23\", \"de...  "
      ]
     },
     "execution_count": 4,
     "metadata": {},
     "output_type": "execute_result"
    }
   ],
   "source": [
    "credits.head(1)"
   ]
  },
  {
   "cell_type": "markdown",
   "id": "338f9780-390f-40c3-bd27-890ce7c576c7",
   "metadata": {},
   "source": [
    "### Merging DataSets"
   ]
  },
  {
   "cell_type": "code",
   "execution_count": 5,
   "id": "9c71d1ee-b1c1-46b3-917d-299e9026593b",
   "metadata": {},
   "outputs": [],
   "source": [
    "movies = movies.merge(credits,on='title')"
   ]
  },
  {
   "cell_type": "code",
   "execution_count": 6,
   "id": "cceb0e90-f14c-44d5-8782-ee2171d3581a",
   "metadata": {},
   "outputs": [
    {
     "data": {
      "text/html": [
       "<div>\n",
       "<style scoped>\n",
       "    .dataframe tbody tr th:only-of-type {\n",
       "        vertical-align: middle;\n",
       "    }\n",
       "\n",
       "    .dataframe tbody tr th {\n",
       "        vertical-align: top;\n",
       "    }\n",
       "\n",
       "    .dataframe thead th {\n",
       "        text-align: right;\n",
       "    }\n",
       "</style>\n",
       "<table border=\"1\" class=\"dataframe\">\n",
       "  <thead>\n",
       "    <tr style=\"text-align: right;\">\n",
       "      <th></th>\n",
       "      <th>budget</th>\n",
       "      <th>genres</th>\n",
       "      <th>homepage</th>\n",
       "      <th>id</th>\n",
       "      <th>keywords</th>\n",
       "      <th>original_language</th>\n",
       "      <th>original_title</th>\n",
       "      <th>overview</th>\n",
       "      <th>popularity</th>\n",
       "      <th>production_companies</th>\n",
       "      <th>...</th>\n",
       "      <th>runtime</th>\n",
       "      <th>spoken_languages</th>\n",
       "      <th>status</th>\n",
       "      <th>tagline</th>\n",
       "      <th>title</th>\n",
       "      <th>vote_average</th>\n",
       "      <th>vote_count</th>\n",
       "      <th>movie_id</th>\n",
       "      <th>cast</th>\n",
       "      <th>crew</th>\n",
       "    </tr>\n",
       "  </thead>\n",
       "  <tbody>\n",
       "    <tr>\n",
       "      <th>0</th>\n",
       "      <td>237000000</td>\n",
       "      <td>[{\"id\": 28, \"name\": \"Action\"}, {\"id\": 12, \"nam...</td>\n",
       "      <td>http://www.avatarmovie.com/</td>\n",
       "      <td>19995</td>\n",
       "      <td>[{\"id\": 1463, \"name\": \"culture clash\"}, {\"id\":...</td>\n",
       "      <td>en</td>\n",
       "      <td>Avatar</td>\n",
       "      <td>In the 22nd century, a paraplegic Marine is di...</td>\n",
       "      <td>150.437577</td>\n",
       "      <td>[{\"name\": \"Ingenious Film Partners\", \"id\": 289...</td>\n",
       "      <td>...</td>\n",
       "      <td>162.0</td>\n",
       "      <td>[{\"iso_639_1\": \"en\", \"name\": \"English\"}, {\"iso...</td>\n",
       "      <td>Released</td>\n",
       "      <td>Enter the World of Pandora.</td>\n",
       "      <td>Avatar</td>\n",
       "      <td>7.2</td>\n",
       "      <td>11800</td>\n",
       "      <td>19995</td>\n",
       "      <td>[{\"cast_id\": 242, \"character\": \"Jake Sully\", \"...</td>\n",
       "      <td>[{\"credit_id\": \"52fe48009251416c750aca23\", \"de...</td>\n",
       "    </tr>\n",
       "  </tbody>\n",
       "</table>\n",
       "<p>1 rows × 23 columns</p>\n",
       "</div>"
      ],
      "text/plain": [
       "      budget                                             genres  \\\n",
       "0  237000000  [{\"id\": 28, \"name\": \"Action\"}, {\"id\": 12, \"nam...   \n",
       "\n",
       "                      homepage     id  \\\n",
       "0  http://www.avatarmovie.com/  19995   \n",
       "\n",
       "                                            keywords original_language  \\\n",
       "0  [{\"id\": 1463, \"name\": \"culture clash\"}, {\"id\":...                en   \n",
       "\n",
       "  original_title                                           overview  \\\n",
       "0         Avatar  In the 22nd century, a paraplegic Marine is di...   \n",
       "\n",
       "   popularity                               production_companies  ... runtime  \\\n",
       "0  150.437577  [{\"name\": \"Ingenious Film Partners\", \"id\": 289...  ...   162.0   \n",
       "\n",
       "                                    spoken_languages    status  \\\n",
       "0  [{\"iso_639_1\": \"en\", \"name\": \"English\"}, {\"iso...  Released   \n",
       "\n",
       "                       tagline   title vote_average vote_count movie_id  \\\n",
       "0  Enter the World of Pandora.  Avatar          7.2      11800    19995   \n",
       "\n",
       "                                                cast  \\\n",
       "0  [{\"cast_id\": 242, \"character\": \"Jake Sully\", \"...   \n",
       "\n",
       "                                                crew  \n",
       "0  [{\"credit_id\": \"52fe48009251416c750aca23\", \"de...  \n",
       "\n",
       "[1 rows x 23 columns]"
      ]
     },
     "execution_count": 6,
     "metadata": {},
     "output_type": "execute_result"
    }
   ],
   "source": [
    "movies.head(1)"
   ]
  },
  {
   "cell_type": "markdown",
   "id": "5470fe54-cc74-4255-b3de-8aa5300f88fa",
   "metadata": {},
   "source": [
    "## Data Transformation"
   ]
  },
  {
   "cell_type": "code",
   "execution_count": 7,
   "id": "e58dfd63-f701-4a2c-87e6-5ee9e97f128c",
   "metadata": {},
   "outputs": [],
   "source": [
    "movies = movies[['movie_id','title','overview','genres','keywords','cast','crew']]"
   ]
  },
  {
   "cell_type": "code",
   "execution_count": 8,
   "id": "0b6b99de-bc6d-4286-b041-6da7d5cbe21d",
   "metadata": {},
   "outputs": [
    {
     "data": {
      "text/html": [
       "<div>\n",
       "<style scoped>\n",
       "    .dataframe tbody tr th:only-of-type {\n",
       "        vertical-align: middle;\n",
       "    }\n",
       "\n",
       "    .dataframe tbody tr th {\n",
       "        vertical-align: top;\n",
       "    }\n",
       "\n",
       "    .dataframe thead th {\n",
       "        text-align: right;\n",
       "    }\n",
       "</style>\n",
       "<table border=\"1\" class=\"dataframe\">\n",
       "  <thead>\n",
       "    <tr style=\"text-align: right;\">\n",
       "      <th></th>\n",
       "      <th>movie_id</th>\n",
       "      <th>title</th>\n",
       "      <th>overview</th>\n",
       "      <th>genres</th>\n",
       "      <th>keywords</th>\n",
       "      <th>cast</th>\n",
       "      <th>crew</th>\n",
       "    </tr>\n",
       "  </thead>\n",
       "  <tbody>\n",
       "    <tr>\n",
       "      <th>0</th>\n",
       "      <td>19995</td>\n",
       "      <td>Avatar</td>\n",
       "      <td>In the 22nd century, a paraplegic Marine is di...</td>\n",
       "      <td>[{\"id\": 28, \"name\": \"Action\"}, {\"id\": 12, \"nam...</td>\n",
       "      <td>[{\"id\": 1463, \"name\": \"culture clash\"}, {\"id\":...</td>\n",
       "      <td>[{\"cast_id\": 242, \"character\": \"Jake Sully\", \"...</td>\n",
       "      <td>[{\"credit_id\": \"52fe48009251416c750aca23\", \"de...</td>\n",
       "    </tr>\n",
       "    <tr>\n",
       "      <th>1</th>\n",
       "      <td>285</td>\n",
       "      <td>Pirates of the Caribbean: At World's End</td>\n",
       "      <td>Captain Barbossa, long believed to be dead, ha...</td>\n",
       "      <td>[{\"id\": 12, \"name\": \"Adventure\"}, {\"id\": 14, \"...</td>\n",
       "      <td>[{\"id\": 270, \"name\": \"ocean\"}, {\"id\": 726, \"na...</td>\n",
       "      <td>[{\"cast_id\": 4, \"character\": \"Captain Jack Spa...</td>\n",
       "      <td>[{\"credit_id\": \"52fe4232c3a36847f800b579\", \"de...</td>\n",
       "    </tr>\n",
       "  </tbody>\n",
       "</table>\n",
       "</div>"
      ],
      "text/plain": [
       "   movie_id                                     title  \\\n",
       "0     19995                                    Avatar   \n",
       "1       285  Pirates of the Caribbean: At World's End   \n",
       "\n",
       "                                            overview  \\\n",
       "0  In the 22nd century, a paraplegic Marine is di...   \n",
       "1  Captain Barbossa, long believed to be dead, ha...   \n",
       "\n",
       "                                              genres  \\\n",
       "0  [{\"id\": 28, \"name\": \"Action\"}, {\"id\": 12, \"nam...   \n",
       "1  [{\"id\": 12, \"name\": \"Adventure\"}, {\"id\": 14, \"...   \n",
       "\n",
       "                                            keywords  \\\n",
       "0  [{\"id\": 1463, \"name\": \"culture clash\"}, {\"id\":...   \n",
       "1  [{\"id\": 270, \"name\": \"ocean\"}, {\"id\": 726, \"na...   \n",
       "\n",
       "                                                cast  \\\n",
       "0  [{\"cast_id\": 242, \"character\": \"Jake Sully\", \"...   \n",
       "1  [{\"cast_id\": 4, \"character\": \"Captain Jack Spa...   \n",
       "\n",
       "                                                crew  \n",
       "0  [{\"credit_id\": \"52fe48009251416c750aca23\", \"de...  \n",
       "1  [{\"credit_id\": \"52fe4232c3a36847f800b579\", \"de...  "
      ]
     },
     "execution_count": 8,
     "metadata": {},
     "output_type": "execute_result"
    }
   ],
   "source": [
    "movies.head(2)"
   ]
  },
  {
   "cell_type": "code",
   "execution_count": 9,
   "id": "bcca72bd-58cb-4abc-bcb1-5d0e3cbb513b",
   "metadata": {},
   "outputs": [
    {
     "data": {
      "text/plain": [
       "movie_id    0\n",
       "title       0\n",
       "overview    3\n",
       "genres      0\n",
       "keywords    0\n",
       "cast        0\n",
       "crew        0\n",
       "dtype: int64"
      ]
     },
     "execution_count": 9,
     "metadata": {},
     "output_type": "execute_result"
    }
   ],
   "source": [
    "movies.isnull().sum()"
   ]
  },
  {
   "cell_type": "code",
   "execution_count": 10,
   "id": "4a63ca71-8d06-475f-8b20-cf688dcca878",
   "metadata": {},
   "outputs": [],
   "source": [
    "movies.dropna(inplace=True)"
   ]
  },
  {
   "cell_type": "code",
   "execution_count": 11,
   "id": "9963c717-1556-4b7d-8b9a-415dee443151",
   "metadata": {},
   "outputs": [
    {
     "data": {
      "text/plain": [
       "0"
      ]
     },
     "execution_count": 11,
     "metadata": {},
     "output_type": "execute_result"
    }
   ],
   "source": [
    "movies.duplicated().sum()"
   ]
  },
  {
   "cell_type": "code",
   "execution_count": 12,
   "id": "97d7c6c3-d644-4464-81cf-f3ee61e464f3",
   "metadata": {},
   "outputs": [
    {
     "data": {
      "text/plain": [
       "'[{\"id\": 28, \"name\": \"Action\"}, {\"id\": 12, \"name\": \"Adventure\"}, {\"id\": 14, \"name\": \"Fantasy\"}, {\"id\": 878, \"name\": \"Science Fiction\"}]'"
      ]
     },
     "execution_count": 12,
     "metadata": {},
     "output_type": "execute_result"
    }
   ],
   "source": [
    "movies.iloc[0].genres"
   ]
  },
  {
   "cell_type": "code",
   "execution_count": 13,
   "id": "27fae324-9771-432f-8d46-33c60962e0ce",
   "metadata": {},
   "outputs": [],
   "source": [
    "def convert(obj):\n",
    "    ls = []\n",
    "    for x in ast.literal_eval(obj):\n",
    "        ls.append(x['name'])\n",
    "    return ls"
   ]
  },
  {
   "cell_type": "code",
   "execution_count": 14,
   "id": "5eb5fc47-3738-45b7-b8dc-5435754d3ef2",
   "metadata": {
    "scrolled": true
   },
   "outputs": [
    {
     "data": {
      "text/html": [
       "<div>\n",
       "<style scoped>\n",
       "    .dataframe tbody tr th:only-of-type {\n",
       "        vertical-align: middle;\n",
       "    }\n",
       "\n",
       "    .dataframe tbody tr th {\n",
       "        vertical-align: top;\n",
       "    }\n",
       "\n",
       "    .dataframe thead th {\n",
       "        text-align: right;\n",
       "    }\n",
       "</style>\n",
       "<table border=\"1\" class=\"dataframe\">\n",
       "  <thead>\n",
       "    <tr style=\"text-align: right;\">\n",
       "      <th></th>\n",
       "      <th>movie_id</th>\n",
       "      <th>title</th>\n",
       "      <th>overview</th>\n",
       "      <th>genres</th>\n",
       "      <th>keywords</th>\n",
       "      <th>cast</th>\n",
       "      <th>crew</th>\n",
       "    </tr>\n",
       "  </thead>\n",
       "  <tbody>\n",
       "    <tr>\n",
       "      <th>0</th>\n",
       "      <td>19995</td>\n",
       "      <td>Avatar</td>\n",
       "      <td>In the 22nd century, a paraplegic Marine is di...</td>\n",
       "      <td>[Action, Adventure, Fantasy, Science Fiction]</td>\n",
       "      <td>[{\"id\": 1463, \"name\": \"culture clash\"}, {\"id\":...</td>\n",
       "      <td>[{\"cast_id\": 242, \"character\": \"Jake Sully\", \"...</td>\n",
       "      <td>[{\"credit_id\": \"52fe48009251416c750aca23\", \"de...</td>\n",
       "    </tr>\n",
       "  </tbody>\n",
       "</table>\n",
       "</div>"
      ],
      "text/plain": [
       "   movie_id   title                                           overview  \\\n",
       "0     19995  Avatar  In the 22nd century, a paraplegic Marine is di...   \n",
       "\n",
       "                                          genres  \\\n",
       "0  [Action, Adventure, Fantasy, Science Fiction]   \n",
       "\n",
       "                                            keywords  \\\n",
       "0  [{\"id\": 1463, \"name\": \"culture clash\"}, {\"id\":...   \n",
       "\n",
       "                                                cast  \\\n",
       "0  [{\"cast_id\": 242, \"character\": \"Jake Sully\", \"...   \n",
       "\n",
       "                                                crew  \n",
       "0  [{\"credit_id\": \"52fe48009251416c750aca23\", \"de...  "
      ]
     },
     "execution_count": 14,
     "metadata": {},
     "output_type": "execute_result"
    }
   ],
   "source": [
    "movies['genres'] = movies['genres'].apply(convert)\n",
    "movies.head(1)"
   ]
  },
  {
   "cell_type": "code",
   "execution_count": 15,
   "id": "2eea2798-7297-4e56-9144-85ae2d2ac261",
   "metadata": {},
   "outputs": [],
   "source": [
    "movies['keywords'] = movies['keywords'].apply(convert)"
   ]
  },
  {
   "cell_type": "code",
   "execution_count": 16,
   "id": "236d1515-1887-403b-867d-6dbc498f56bd",
   "metadata": {},
   "outputs": [],
   "source": [
    "def convert_cast(obj):\n",
    "    ls = []\n",
    "    counter=0\n",
    "    for i in ast.literal_eval(obj):\n",
    "        if counter != 3:\n",
    "            ls.append(i['name'])\n",
    "            counter += 1\n",
    "        else:\n",
    "            break\n",
    "    return ls"
   ]
  },
  {
   "cell_type": "code",
   "execution_count": 17,
   "id": "483eded0-b3ad-4129-bddb-9c49c9b7f2c6",
   "metadata": {},
   "outputs": [
    {
     "data": {
      "text/html": [
       "<div>\n",
       "<style scoped>\n",
       "    .dataframe tbody tr th:only-of-type {\n",
       "        vertical-align: middle;\n",
       "    }\n",
       "\n",
       "    .dataframe tbody tr th {\n",
       "        vertical-align: top;\n",
       "    }\n",
       "\n",
       "    .dataframe thead th {\n",
       "        text-align: right;\n",
       "    }\n",
       "</style>\n",
       "<table border=\"1\" class=\"dataframe\">\n",
       "  <thead>\n",
       "    <tr style=\"text-align: right;\">\n",
       "      <th></th>\n",
       "      <th>movie_id</th>\n",
       "      <th>title</th>\n",
       "      <th>overview</th>\n",
       "      <th>genres</th>\n",
       "      <th>keywords</th>\n",
       "      <th>cast</th>\n",
       "      <th>crew</th>\n",
       "    </tr>\n",
       "  </thead>\n",
       "  <tbody>\n",
       "    <tr>\n",
       "      <th>0</th>\n",
       "      <td>19995</td>\n",
       "      <td>Avatar</td>\n",
       "      <td>In the 22nd century, a paraplegic Marine is di...</td>\n",
       "      <td>[Action, Adventure, Fantasy, Science Fiction]</td>\n",
       "      <td>[culture clash, future, space war, space colon...</td>\n",
       "      <td>[Sam Worthington, Zoe Saldana, Sigourney Weaver]</td>\n",
       "      <td>[{\"credit_id\": \"52fe48009251416c750aca23\", \"de...</td>\n",
       "    </tr>\n",
       "  </tbody>\n",
       "</table>\n",
       "</div>"
      ],
      "text/plain": [
       "   movie_id   title                                           overview  \\\n",
       "0     19995  Avatar  In the 22nd century, a paraplegic Marine is di...   \n",
       "\n",
       "                                          genres  \\\n",
       "0  [Action, Adventure, Fantasy, Science Fiction]   \n",
       "\n",
       "                                            keywords  \\\n",
       "0  [culture clash, future, space war, space colon...   \n",
       "\n",
       "                                               cast  \\\n",
       "0  [Sam Worthington, Zoe Saldana, Sigourney Weaver]   \n",
       "\n",
       "                                                crew  \n",
       "0  [{\"credit_id\": \"52fe48009251416c750aca23\", \"de...  "
      ]
     },
     "execution_count": 17,
     "metadata": {},
     "output_type": "execute_result"
    }
   ],
   "source": [
    "movies['cast'] = movies['cast'].apply(convert_cast)\n",
    "movies.head(1)"
   ]
  },
  {
   "cell_type": "code",
   "execution_count": 18,
   "id": "364838a0-3b10-4a93-b756-bd0b1dd2a2f2",
   "metadata": {},
   "outputs": [],
   "source": [
    "def convert_crew(obj):\n",
    "    ls = []\n",
    "    for i in ast.literal_eval(obj):\n",
    "        if i['job'] == \"Director\":\n",
    "            ls.append(i['name'])\n",
    "            break\n",
    "    return ls"
   ]
  },
  {
   "cell_type": "code",
   "execution_count": 19,
   "id": "4a801bc6-2cd2-4062-ae08-8d2c1bd5ed90",
   "metadata": {},
   "outputs": [],
   "source": [
    "movies['crew'] = movies['crew'].apply(convert_crew)"
   ]
  },
  {
   "cell_type": "code",
   "execution_count": 20,
   "id": "a00ffd35-0864-46e7-922c-f90067038243",
   "metadata": {},
   "outputs": [
    {
     "data": {
      "text/html": [
       "<div>\n",
       "<style scoped>\n",
       "    .dataframe tbody tr th:only-of-type {\n",
       "        vertical-align: middle;\n",
       "    }\n",
       "\n",
       "    .dataframe tbody tr th {\n",
       "        vertical-align: top;\n",
       "    }\n",
       "\n",
       "    .dataframe thead th {\n",
       "        text-align: right;\n",
       "    }\n",
       "</style>\n",
       "<table border=\"1\" class=\"dataframe\">\n",
       "  <thead>\n",
       "    <tr style=\"text-align: right;\">\n",
       "      <th></th>\n",
       "      <th>movie_id</th>\n",
       "      <th>title</th>\n",
       "      <th>overview</th>\n",
       "      <th>genres</th>\n",
       "      <th>keywords</th>\n",
       "      <th>cast</th>\n",
       "      <th>crew</th>\n",
       "    </tr>\n",
       "  </thead>\n",
       "  <tbody>\n",
       "    <tr>\n",
       "      <th>0</th>\n",
       "      <td>19995</td>\n",
       "      <td>Avatar</td>\n",
       "      <td>In the 22nd century, a paraplegic Marine is di...</td>\n",
       "      <td>[Action, Adventure, Fantasy, Science Fiction]</td>\n",
       "      <td>[culture clash, future, space war, space colon...</td>\n",
       "      <td>[Sam Worthington, Zoe Saldana, Sigourney Weaver]</td>\n",
       "      <td>[James Cameron]</td>\n",
       "    </tr>\n",
       "  </tbody>\n",
       "</table>\n",
       "</div>"
      ],
      "text/plain": [
       "   movie_id   title                                           overview  \\\n",
       "0     19995  Avatar  In the 22nd century, a paraplegic Marine is di...   \n",
       "\n",
       "                                          genres  \\\n",
       "0  [Action, Adventure, Fantasy, Science Fiction]   \n",
       "\n",
       "                                            keywords  \\\n",
       "0  [culture clash, future, space war, space colon...   \n",
       "\n",
       "                                               cast             crew  \n",
       "0  [Sam Worthington, Zoe Saldana, Sigourney Weaver]  [James Cameron]  "
      ]
     },
     "execution_count": 20,
     "metadata": {},
     "output_type": "execute_result"
    }
   ],
   "source": [
    "movies.head(1)"
   ]
  },
  {
   "cell_type": "code",
   "execution_count": 21,
   "id": "545a72c1-58c1-4a9c-9239-c1d3e49fc6f0",
   "metadata": {},
   "outputs": [],
   "source": [
    "movies['overview'] = movies['overview'].apply(lambda x:x.split())"
   ]
  },
  {
   "cell_type": "code",
   "execution_count": 22,
   "id": "5a7ee914-de68-43e8-9172-b2ce53e4b38f",
   "metadata": {
    "collapsed": true,
    "jupyter": {
     "outputs_hidden": true
    }
   },
   "outputs": [
    {
     "data": {
      "text/html": [
       "<div>\n",
       "<style scoped>\n",
       "    .dataframe tbody tr th:only-of-type {\n",
       "        vertical-align: middle;\n",
       "    }\n",
       "\n",
       "    .dataframe tbody tr th {\n",
       "        vertical-align: top;\n",
       "    }\n",
       "\n",
       "    .dataframe thead th {\n",
       "        text-align: right;\n",
       "    }\n",
       "</style>\n",
       "<table border=\"1\" class=\"dataframe\">\n",
       "  <thead>\n",
       "    <tr style=\"text-align: right;\">\n",
       "      <th></th>\n",
       "      <th>movie_id</th>\n",
       "      <th>title</th>\n",
       "      <th>overview</th>\n",
       "      <th>genres</th>\n",
       "      <th>keywords</th>\n",
       "      <th>cast</th>\n",
       "      <th>crew</th>\n",
       "    </tr>\n",
       "  </thead>\n",
       "  <tbody>\n",
       "    <tr>\n",
       "      <th>0</th>\n",
       "      <td>19995</td>\n",
       "      <td>Avatar</td>\n",
       "      <td>[In, the, 22nd, century,, a, paraplegic, Marin...</td>\n",
       "      <td>[Action, Adventure, Fantasy, Science Fiction]</td>\n",
       "      <td>[culture clash, future, space war, space colon...</td>\n",
       "      <td>[Sam Worthington, Zoe Saldana, Sigourney Weaver]</td>\n",
       "      <td>[James Cameron]</td>\n",
       "    </tr>\n",
       "    <tr>\n",
       "      <th>1</th>\n",
       "      <td>285</td>\n",
       "      <td>Pirates of the Caribbean: At World's End</td>\n",
       "      <td>[Captain, Barbossa,, long, believed, to, be, d...</td>\n",
       "      <td>[Adventure, Fantasy, Action]</td>\n",
       "      <td>[ocean, drug abuse, exotic island, east india ...</td>\n",
       "      <td>[Johnny Depp, Orlando Bloom, Keira Knightley]</td>\n",
       "      <td>[Gore Verbinski]</td>\n",
       "    </tr>\n",
       "    <tr>\n",
       "      <th>2</th>\n",
       "      <td>206647</td>\n",
       "      <td>Spectre</td>\n",
       "      <td>[A, cryptic, message, from, Bond’s, past, send...</td>\n",
       "      <td>[Action, Adventure, Crime]</td>\n",
       "      <td>[spy, based on novel, secret agent, sequel, mi...</td>\n",
       "      <td>[Daniel Craig, Christoph Waltz, Léa Seydoux]</td>\n",
       "      <td>[Sam Mendes]</td>\n",
       "    </tr>\n",
       "    <tr>\n",
       "      <th>3</th>\n",
       "      <td>49026</td>\n",
       "      <td>The Dark Knight Rises</td>\n",
       "      <td>[Following, the, death, of, District, Attorney...</td>\n",
       "      <td>[Action, Crime, Drama, Thriller]</td>\n",
       "      <td>[dc comics, crime fighter, terrorist, secret i...</td>\n",
       "      <td>[Christian Bale, Michael Caine, Gary Oldman]</td>\n",
       "      <td>[Christopher Nolan]</td>\n",
       "    </tr>\n",
       "    <tr>\n",
       "      <th>4</th>\n",
       "      <td>49529</td>\n",
       "      <td>John Carter</td>\n",
       "      <td>[John, Carter, is, a, war-weary,, former, mili...</td>\n",
       "      <td>[Action, Adventure, Science Fiction]</td>\n",
       "      <td>[based on novel, mars, medallion, space travel...</td>\n",
       "      <td>[Taylor Kitsch, Lynn Collins, Samantha Morton]</td>\n",
       "      <td>[Andrew Stanton]</td>\n",
       "    </tr>\n",
       "  </tbody>\n",
       "</table>\n",
       "</div>"
      ],
      "text/plain": [
       "   movie_id                                     title  \\\n",
       "0     19995                                    Avatar   \n",
       "1       285  Pirates of the Caribbean: At World's End   \n",
       "2    206647                                   Spectre   \n",
       "3     49026                     The Dark Knight Rises   \n",
       "4     49529                               John Carter   \n",
       "\n",
       "                                            overview  \\\n",
       "0  [In, the, 22nd, century,, a, paraplegic, Marin...   \n",
       "1  [Captain, Barbossa,, long, believed, to, be, d...   \n",
       "2  [A, cryptic, message, from, Bond’s, past, send...   \n",
       "3  [Following, the, death, of, District, Attorney...   \n",
       "4  [John, Carter, is, a, war-weary,, former, mili...   \n",
       "\n",
       "                                          genres  \\\n",
       "0  [Action, Adventure, Fantasy, Science Fiction]   \n",
       "1                   [Adventure, Fantasy, Action]   \n",
       "2                     [Action, Adventure, Crime]   \n",
       "3               [Action, Crime, Drama, Thriller]   \n",
       "4           [Action, Adventure, Science Fiction]   \n",
       "\n",
       "                                            keywords  \\\n",
       "0  [culture clash, future, space war, space colon...   \n",
       "1  [ocean, drug abuse, exotic island, east india ...   \n",
       "2  [spy, based on novel, secret agent, sequel, mi...   \n",
       "3  [dc comics, crime fighter, terrorist, secret i...   \n",
       "4  [based on novel, mars, medallion, space travel...   \n",
       "\n",
       "                                               cast                 crew  \n",
       "0  [Sam Worthington, Zoe Saldana, Sigourney Weaver]      [James Cameron]  \n",
       "1     [Johnny Depp, Orlando Bloom, Keira Knightley]     [Gore Verbinski]  \n",
       "2      [Daniel Craig, Christoph Waltz, Léa Seydoux]         [Sam Mendes]  \n",
       "3      [Christian Bale, Michael Caine, Gary Oldman]  [Christopher Nolan]  \n",
       "4    [Taylor Kitsch, Lynn Collins, Samantha Morton]     [Andrew Stanton]  "
      ]
     },
     "execution_count": 22,
     "metadata": {},
     "output_type": "execute_result"
    }
   ],
   "source": [
    "movies.head()"
   ]
  },
  {
   "cell_type": "code",
   "execution_count": 24,
   "id": "c6311719-2890-4a1f-8a41-0c42524fc88e",
   "metadata": {},
   "outputs": [],
   "source": [
    "movies['genres'] = movies['genres'].apply(lambda x:[i.replace(\" \",\"\") for i in x])\n",
    "movies['keywords'] = movies['keywords'].apply(lambda x:[i.replace(\" \",\"\") for i in x])\n",
    "movies['cast'] = movies['cast'].apply(lambda x:[i.replace(\" \",\"\") for i in x])\n",
    "movies['crew'] = movies['crew'].apply(lambda x:[i.replace(\" \",\"\") for i in x])"
   ]
  },
  {
   "cell_type": "code",
   "execution_count": 25,
   "id": "7944c7cf-b691-4064-b2db-de748d60ee91",
   "metadata": {},
   "outputs": [
    {
     "data": {
      "text/html": [
       "<div>\n",
       "<style scoped>\n",
       "    .dataframe tbody tr th:only-of-type {\n",
       "        vertical-align: middle;\n",
       "    }\n",
       "\n",
       "    .dataframe tbody tr th {\n",
       "        vertical-align: top;\n",
       "    }\n",
       "\n",
       "    .dataframe thead th {\n",
       "        text-align: right;\n",
       "    }\n",
       "</style>\n",
       "<table border=\"1\" class=\"dataframe\">\n",
       "  <thead>\n",
       "    <tr style=\"text-align: right;\">\n",
       "      <th></th>\n",
       "      <th>movie_id</th>\n",
       "      <th>title</th>\n",
       "      <th>overview</th>\n",
       "      <th>genres</th>\n",
       "      <th>keywords</th>\n",
       "      <th>cast</th>\n",
       "      <th>crew</th>\n",
       "    </tr>\n",
       "  </thead>\n",
       "  <tbody>\n",
       "    <tr>\n",
       "      <th>0</th>\n",
       "      <td>19995</td>\n",
       "      <td>Avatar</td>\n",
       "      <td>[In, the, 22nd, century,, a, paraplegic, Marin...</td>\n",
       "      <td>[Action, Adventure, Fantasy, ScienceFiction]</td>\n",
       "      <td>[cultureclash, future, spacewar, spacecolony, ...</td>\n",
       "      <td>[SamWorthington, ZoeSaldana, SigourneyWeaver]</td>\n",
       "      <td>[JamesCameron]</td>\n",
       "    </tr>\n",
       "    <tr>\n",
       "      <th>1</th>\n",
       "      <td>285</td>\n",
       "      <td>Pirates of the Caribbean: At World's End</td>\n",
       "      <td>[Captain, Barbossa,, long, believed, to, be, d...</td>\n",
       "      <td>[Adventure, Fantasy, Action]</td>\n",
       "      <td>[ocean, drugabuse, exoticisland, eastindiatrad...</td>\n",
       "      <td>[JohnnyDepp, OrlandoBloom, KeiraKnightley]</td>\n",
       "      <td>[GoreVerbinski]</td>\n",
       "    </tr>\n",
       "  </tbody>\n",
       "</table>\n",
       "</div>"
      ],
      "text/plain": [
       "   movie_id                                     title  \\\n",
       "0     19995                                    Avatar   \n",
       "1       285  Pirates of the Caribbean: At World's End   \n",
       "\n",
       "                                            overview  \\\n",
       "0  [In, the, 22nd, century,, a, paraplegic, Marin...   \n",
       "1  [Captain, Barbossa,, long, believed, to, be, d...   \n",
       "\n",
       "                                         genres  \\\n",
       "0  [Action, Adventure, Fantasy, ScienceFiction]   \n",
       "1                  [Adventure, Fantasy, Action]   \n",
       "\n",
       "                                            keywords  \\\n",
       "0  [cultureclash, future, spacewar, spacecolony, ...   \n",
       "1  [ocean, drugabuse, exoticisland, eastindiatrad...   \n",
       "\n",
       "                                            cast             crew  \n",
       "0  [SamWorthington, ZoeSaldana, SigourneyWeaver]   [JamesCameron]  \n",
       "1     [JohnnyDepp, OrlandoBloom, KeiraKnightley]  [GoreVerbinski]  "
      ]
     },
     "execution_count": 25,
     "metadata": {},
     "output_type": "execute_result"
    }
   ],
   "source": [
    "movies.head(2)"
   ]
  },
  {
   "cell_type": "code",
   "execution_count": 26,
   "id": "488c1fc4-941f-4f99-90ae-881aa086acbf",
   "metadata": {},
   "outputs": [
    {
     "data": {
      "text/html": [
       "<div>\n",
       "<style scoped>\n",
       "    .dataframe tbody tr th:only-of-type {\n",
       "        vertical-align: middle;\n",
       "    }\n",
       "\n",
       "    .dataframe tbody tr th {\n",
       "        vertical-align: top;\n",
       "    }\n",
       "\n",
       "    .dataframe thead th {\n",
       "        text-align: right;\n",
       "    }\n",
       "</style>\n",
       "<table border=\"1\" class=\"dataframe\">\n",
       "  <thead>\n",
       "    <tr style=\"text-align: right;\">\n",
       "      <th></th>\n",
       "      <th>movie_id</th>\n",
       "      <th>title</th>\n",
       "      <th>overview</th>\n",
       "      <th>genres</th>\n",
       "      <th>keywords</th>\n",
       "      <th>cast</th>\n",
       "      <th>crew</th>\n",
       "      <th>tags</th>\n",
       "    </tr>\n",
       "  </thead>\n",
       "  <tbody>\n",
       "    <tr>\n",
       "      <th>0</th>\n",
       "      <td>19995</td>\n",
       "      <td>Avatar</td>\n",
       "      <td>[In, the, 22nd, century,, a, paraplegic, Marin...</td>\n",
       "      <td>[Action, Adventure, Fantasy, ScienceFiction]</td>\n",
       "      <td>[cultureclash, future, spacewar, spacecolony, ...</td>\n",
       "      <td>[SamWorthington, ZoeSaldana, SigourneyWeaver]</td>\n",
       "      <td>[JamesCameron]</td>\n",
       "      <td>[In, the, 22nd, century,, a, paraplegic, Marin...</td>\n",
       "    </tr>\n",
       "  </tbody>\n",
       "</table>\n",
       "</div>"
      ],
      "text/plain": [
       "   movie_id   title                                           overview  \\\n",
       "0     19995  Avatar  [In, the, 22nd, century,, a, paraplegic, Marin...   \n",
       "\n",
       "                                         genres  \\\n",
       "0  [Action, Adventure, Fantasy, ScienceFiction]   \n",
       "\n",
       "                                            keywords  \\\n",
       "0  [cultureclash, future, spacewar, spacecolony, ...   \n",
       "\n",
       "                                            cast            crew  \\\n",
       "0  [SamWorthington, ZoeSaldana, SigourneyWeaver]  [JamesCameron]   \n",
       "\n",
       "                                                tags  \n",
       "0  [In, the, 22nd, century,, a, paraplegic, Marin...  "
      ]
     },
     "execution_count": 26,
     "metadata": {},
     "output_type": "execute_result"
    }
   ],
   "source": [
    "movies['tags'] = movies['overview'] + movies['genres'] + movies['keywords'] + movies['cast'] + movies['crew']\n",
    "movies.head(1)"
   ]
  },
  {
   "cell_type": "code",
   "execution_count": 27,
   "id": "692a1f5e-63ee-4769-9a14-19b5bc5dd205",
   "metadata": {
    "collapsed": true,
    "jupyter": {
     "outputs_hidden": true
    }
   },
   "outputs": [
    {
     "data": {
      "text/html": [
       "<div>\n",
       "<style scoped>\n",
       "    .dataframe tbody tr th:only-of-type {\n",
       "        vertical-align: middle;\n",
       "    }\n",
       "\n",
       "    .dataframe tbody tr th {\n",
       "        vertical-align: top;\n",
       "    }\n",
       "\n",
       "    .dataframe thead th {\n",
       "        text-align: right;\n",
       "    }\n",
       "</style>\n",
       "<table border=\"1\" class=\"dataframe\">\n",
       "  <thead>\n",
       "    <tr style=\"text-align: right;\">\n",
       "      <th></th>\n",
       "      <th>movie_id</th>\n",
       "      <th>title</th>\n",
       "      <th>tags</th>\n",
       "    </tr>\n",
       "  </thead>\n",
       "  <tbody>\n",
       "    <tr>\n",
       "      <th>0</th>\n",
       "      <td>19995</td>\n",
       "      <td>Avatar</td>\n",
       "      <td>[In, the, 22nd, century,, a, paraplegic, Marin...</td>\n",
       "    </tr>\n",
       "    <tr>\n",
       "      <th>1</th>\n",
       "      <td>285</td>\n",
       "      <td>Pirates of the Caribbean: At World's End</td>\n",
       "      <td>[Captain, Barbossa,, long, believed, to, be, d...</td>\n",
       "    </tr>\n",
       "    <tr>\n",
       "      <th>2</th>\n",
       "      <td>206647</td>\n",
       "      <td>Spectre</td>\n",
       "      <td>[A, cryptic, message, from, Bond’s, past, send...</td>\n",
       "    </tr>\n",
       "    <tr>\n",
       "      <th>3</th>\n",
       "      <td>49026</td>\n",
       "      <td>The Dark Knight Rises</td>\n",
       "      <td>[Following, the, death, of, District, Attorney...</td>\n",
       "    </tr>\n",
       "    <tr>\n",
       "      <th>4</th>\n",
       "      <td>49529</td>\n",
       "      <td>John Carter</td>\n",
       "      <td>[John, Carter, is, a, war-weary,, former, mili...</td>\n",
       "    </tr>\n",
       "    <tr>\n",
       "      <th>...</th>\n",
       "      <td>...</td>\n",
       "      <td>...</td>\n",
       "      <td>...</td>\n",
       "    </tr>\n",
       "    <tr>\n",
       "      <th>4804</th>\n",
       "      <td>9367</td>\n",
       "      <td>El Mariachi</td>\n",
       "      <td>[El, Mariachi, just, wants, to, play, his, gui...</td>\n",
       "    </tr>\n",
       "    <tr>\n",
       "      <th>4805</th>\n",
       "      <td>72766</td>\n",
       "      <td>Newlyweds</td>\n",
       "      <td>[A, newlywed, couple's, honeymoon, is, upended...</td>\n",
       "    </tr>\n",
       "    <tr>\n",
       "      <th>4806</th>\n",
       "      <td>231617</td>\n",
       "      <td>Signed, Sealed, Delivered</td>\n",
       "      <td>[\"Signed,, Sealed,, Delivered\", introduces, a,...</td>\n",
       "    </tr>\n",
       "    <tr>\n",
       "      <th>4807</th>\n",
       "      <td>126186</td>\n",
       "      <td>Shanghai Calling</td>\n",
       "      <td>[When, ambitious, New, York, attorney, Sam, is...</td>\n",
       "    </tr>\n",
       "    <tr>\n",
       "      <th>4808</th>\n",
       "      <td>25975</td>\n",
       "      <td>My Date with Drew</td>\n",
       "      <td>[Ever, since, the, second, grade, when, he, fi...</td>\n",
       "    </tr>\n",
       "  </tbody>\n",
       "</table>\n",
       "<p>4806 rows × 3 columns</p>\n",
       "</div>"
      ],
      "text/plain": [
       "      movie_id                                     title  \\\n",
       "0        19995                                    Avatar   \n",
       "1          285  Pirates of the Caribbean: At World's End   \n",
       "2       206647                                   Spectre   \n",
       "3        49026                     The Dark Knight Rises   \n",
       "4        49529                               John Carter   \n",
       "...        ...                                       ...   \n",
       "4804      9367                               El Mariachi   \n",
       "4805     72766                                 Newlyweds   \n",
       "4806    231617                 Signed, Sealed, Delivered   \n",
       "4807    126186                          Shanghai Calling   \n",
       "4808     25975                         My Date with Drew   \n",
       "\n",
       "                                                   tags  \n",
       "0     [In, the, 22nd, century,, a, paraplegic, Marin...  \n",
       "1     [Captain, Barbossa,, long, believed, to, be, d...  \n",
       "2     [A, cryptic, message, from, Bond’s, past, send...  \n",
       "3     [Following, the, death, of, District, Attorney...  \n",
       "4     [John, Carter, is, a, war-weary,, former, mili...  \n",
       "...                                                 ...  \n",
       "4804  [El, Mariachi, just, wants, to, play, his, gui...  \n",
       "4805  [A, newlywed, couple's, honeymoon, is, upended...  \n",
       "4806  [\"Signed,, Sealed,, Delivered\", introduces, a,...  \n",
       "4807  [When, ambitious, New, York, attorney, Sam, is...  \n",
       "4808  [Ever, since, the, second, grade, when, he, fi...  \n",
       "\n",
       "[4806 rows x 3 columns]"
      ]
     },
     "execution_count": 27,
     "metadata": {},
     "output_type": "execute_result"
    }
   ],
   "source": [
    "data = movies[['movie_id','title','tags']]\n",
    "data"
   ]
  },
  {
   "cell_type": "code",
   "execution_count": 28,
   "id": "ae59ce58-2812-44a6-9151-ed28866abc3f",
   "metadata": {},
   "outputs": [],
   "source": [
    "data['tags'] = data['tags'].apply(lambda x:\" \".join(x))"
   ]
  },
  {
   "cell_type": "code",
   "execution_count": 29,
   "id": "e7feb34f-f784-47b0-95c7-815bbaec6cd8",
   "metadata": {
    "collapsed": true,
    "jupyter": {
     "outputs_hidden": true
    }
   },
   "outputs": [
    {
     "data": {
      "text/html": [
       "<div>\n",
       "<style scoped>\n",
       "    .dataframe tbody tr th:only-of-type {\n",
       "        vertical-align: middle;\n",
       "    }\n",
       "\n",
       "    .dataframe tbody tr th {\n",
       "        vertical-align: top;\n",
       "    }\n",
       "\n",
       "    .dataframe thead th {\n",
       "        text-align: right;\n",
       "    }\n",
       "</style>\n",
       "<table border=\"1\" class=\"dataframe\">\n",
       "  <thead>\n",
       "    <tr style=\"text-align: right;\">\n",
       "      <th></th>\n",
       "      <th>movie_id</th>\n",
       "      <th>title</th>\n",
       "      <th>tags</th>\n",
       "    </tr>\n",
       "  </thead>\n",
       "  <tbody>\n",
       "    <tr>\n",
       "      <th>0</th>\n",
       "      <td>19995</td>\n",
       "      <td>Avatar</td>\n",
       "      <td>In the 22nd century, a paraplegic Marine is di...</td>\n",
       "    </tr>\n",
       "    <tr>\n",
       "      <th>1</th>\n",
       "      <td>285</td>\n",
       "      <td>Pirates of the Caribbean: At World's End</td>\n",
       "      <td>Captain Barbossa, long believed to be dead, ha...</td>\n",
       "    </tr>\n",
       "    <tr>\n",
       "      <th>2</th>\n",
       "      <td>206647</td>\n",
       "      <td>Spectre</td>\n",
       "      <td>A cryptic message from Bond’s past sends him o...</td>\n",
       "    </tr>\n",
       "    <tr>\n",
       "      <th>3</th>\n",
       "      <td>49026</td>\n",
       "      <td>The Dark Knight Rises</td>\n",
       "      <td>Following the death of District Attorney Harve...</td>\n",
       "    </tr>\n",
       "    <tr>\n",
       "      <th>4</th>\n",
       "      <td>49529</td>\n",
       "      <td>John Carter</td>\n",
       "      <td>John Carter is a war-weary, former military ca...</td>\n",
       "    </tr>\n",
       "  </tbody>\n",
       "</table>\n",
       "</div>"
      ],
      "text/plain": [
       "   movie_id                                     title  \\\n",
       "0     19995                                    Avatar   \n",
       "1       285  Pirates of the Caribbean: At World's End   \n",
       "2    206647                                   Spectre   \n",
       "3     49026                     The Dark Knight Rises   \n",
       "4     49529                               John Carter   \n",
       "\n",
       "                                                tags  \n",
       "0  In the 22nd century, a paraplegic Marine is di...  \n",
       "1  Captain Barbossa, long believed to be dead, ha...  \n",
       "2  A cryptic message from Bond’s past sends him o...  \n",
       "3  Following the death of District Attorney Harve...  \n",
       "4  John Carter is a war-weary, former military ca...  "
      ]
     },
     "execution_count": 29,
     "metadata": {},
     "output_type": "execute_result"
    }
   ],
   "source": [
    "data.head()"
   ]
  },
  {
   "cell_type": "code",
   "execution_count": 30,
   "id": "26a3a316-669c-413a-9095-26de0dd8b74c",
   "metadata": {},
   "outputs": [
    {
     "data": {
      "text/plain": [
       "'In the 22nd century, a paraplegic Marine is dispatched to the moon Pandora on a unique mission, but becomes torn between following orders and protecting an alien civilization. Action Adventure Fantasy ScienceFiction cultureclash future spacewar spacecolony society spacetravel futuristic romance space alien tribe alienplanet cgi marine soldier battle loveaffair antiwar powerrelations mindandsoul 3d SamWorthington ZoeSaldana SigourneyWeaver JamesCameron'"
      ]
     },
     "execution_count": 30,
     "metadata": {},
     "output_type": "execute_result"
    }
   ],
   "source": [
    "data['tags'][0]"
   ]
  },
  {
   "cell_type": "code",
   "execution_count": 31,
   "id": "f64283b5-4df0-4d1d-9731-cae27f622b1e",
   "metadata": {},
   "outputs": [],
   "source": [
    "data['tags'] = data['tags'].apply(lambda x:x.lower())"
   ]
  },
  {
   "cell_type": "code",
   "execution_count": 32,
   "id": "956c57c2-34b7-4793-ae02-adba496a47d8",
   "metadata": {
    "collapsed": true,
    "jupyter": {
     "outputs_hidden": true
    }
   },
   "outputs": [
    {
     "data": {
      "text/html": [
       "<div>\n",
       "<style scoped>\n",
       "    .dataframe tbody tr th:only-of-type {\n",
       "        vertical-align: middle;\n",
       "    }\n",
       "\n",
       "    .dataframe tbody tr th {\n",
       "        vertical-align: top;\n",
       "    }\n",
       "\n",
       "    .dataframe thead th {\n",
       "        text-align: right;\n",
       "    }\n",
       "</style>\n",
       "<table border=\"1\" class=\"dataframe\">\n",
       "  <thead>\n",
       "    <tr style=\"text-align: right;\">\n",
       "      <th></th>\n",
       "      <th>movie_id</th>\n",
       "      <th>title</th>\n",
       "      <th>tags</th>\n",
       "    </tr>\n",
       "  </thead>\n",
       "  <tbody>\n",
       "    <tr>\n",
       "      <th>0</th>\n",
       "      <td>19995</td>\n",
       "      <td>Avatar</td>\n",
       "      <td>in the 22nd century, a paraplegic marine is di...</td>\n",
       "    </tr>\n",
       "    <tr>\n",
       "      <th>1</th>\n",
       "      <td>285</td>\n",
       "      <td>Pirates of the Caribbean: At World's End</td>\n",
       "      <td>captain barbossa, long believed to be dead, ha...</td>\n",
       "    </tr>\n",
       "    <tr>\n",
       "      <th>2</th>\n",
       "      <td>206647</td>\n",
       "      <td>Spectre</td>\n",
       "      <td>a cryptic message from bond’s past sends him o...</td>\n",
       "    </tr>\n",
       "    <tr>\n",
       "      <th>3</th>\n",
       "      <td>49026</td>\n",
       "      <td>The Dark Knight Rises</td>\n",
       "      <td>following the death of district attorney harve...</td>\n",
       "    </tr>\n",
       "    <tr>\n",
       "      <th>4</th>\n",
       "      <td>49529</td>\n",
       "      <td>John Carter</td>\n",
       "      <td>john carter is a war-weary, former military ca...</td>\n",
       "    </tr>\n",
       "  </tbody>\n",
       "</table>\n",
       "</div>"
      ],
      "text/plain": [
       "   movie_id                                     title  \\\n",
       "0     19995                                    Avatar   \n",
       "1       285  Pirates of the Caribbean: At World's End   \n",
       "2    206647                                   Spectre   \n",
       "3     49026                     The Dark Knight Rises   \n",
       "4     49529                               John Carter   \n",
       "\n",
       "                                                tags  \n",
       "0  in the 22nd century, a paraplegic marine is di...  \n",
       "1  captain barbossa, long believed to be dead, ha...  \n",
       "2  a cryptic message from bond’s past sends him o...  \n",
       "3  following the death of district attorney harve...  \n",
       "4  john carter is a war-weary, former military ca...  "
      ]
     },
     "execution_count": 32,
     "metadata": {},
     "output_type": "execute_result"
    }
   ],
   "source": [
    "data.head()"
   ]
  },
  {
   "cell_type": "code",
   "execution_count": 33,
   "id": "4bfd06b7-bb51-41d0-a372-bb5dfa7c74cb",
   "metadata": {},
   "outputs": [
    {
     "data": {
      "text/plain": [
       "(4806, 3)"
      ]
     },
     "execution_count": 33,
     "metadata": {},
     "output_type": "execute_result"
    }
   ],
   "source": [
    "data.shape"
   ]
  },
  {
   "cell_type": "code",
   "execution_count": 34,
   "id": "4aeeedb8-cc48-4e82-8f53-683a077d8a44",
   "metadata": {},
   "outputs": [],
   "source": [
    "import nltk"
   ]
  },
  {
   "cell_type": "code",
   "execution_count": 35,
   "id": "831f0c23-4379-417c-a7d3-3107b121c04f",
   "metadata": {},
   "outputs": [],
   "source": [
    "from nltk.stem.porter import PorterStemmer\n",
    "ps = PorterStemmer()"
   ]
  },
  {
   "cell_type": "code",
   "execution_count": 36,
   "id": "9307caa2-72c3-4bb5-9404-d952a875fc2d",
   "metadata": {},
   "outputs": [],
   "source": [
    "def stem(text):\n",
    "    y = []\n",
    "    for i in text.split():\n",
    "        y.append(ps.stem(i))\n",
    "    return \" \".join(y)"
   ]
  },
  {
   "cell_type": "code",
   "execution_count": 37,
   "id": "1ab8e355-7ea6-44e3-b73d-c357d19df379",
   "metadata": {},
   "outputs": [],
   "source": [
    "data['tags'] = data['tags'].apply(stem)"
   ]
  },
  {
   "cell_type": "code",
   "execution_count": 38,
   "id": "186327b7-eaa5-47a8-9fd5-b47d739d12bf",
   "metadata": {},
   "outputs": [],
   "source": [
    "from sklearn.feature_extraction.text import CountVectorizer"
   ]
  },
  {
   "cell_type": "code",
   "execution_count": 39,
   "id": "0850b4fe-a9f0-46ba-8197-421ef24ecdcf",
   "metadata": {},
   "outputs": [],
   "source": [
    "cv = CountVectorizer(max_features=5000,stop_words='english')"
   ]
  },
  {
   "cell_type": "code",
   "execution_count": 40,
   "id": "d8429c5e-04bf-48fb-a7db-1989fa4ea2ee",
   "metadata": {},
   "outputs": [],
   "source": [
    "vectors = cv.fit_transform(data['tags']).toarray()"
   ]
  },
  {
   "cell_type": "code",
   "execution_count": 41,
   "id": "f4911031-4bf6-46ba-a4cd-08c277213377",
   "metadata": {
    "collapsed": true,
    "jupyter": {
     "outputs_hidden": true
    }
   },
   "outputs": [
    {
     "name": "stdout",
     "output_type": "stream",
     "text": [
      "['000', '007', '10', '100', '11', '12', '13', '14', '15', '16', '17', '17th', '18', '18th', '18thcenturi', '19', '1910', '1920', '1930', '1940', '1944', '1950', '1950s', '1960', '1960s', '1970', '1970s', '1971', '1974', '1976', '1980', '1985', '1990', '1999', '19th', '19thcenturi', '20', '200', '2003', '2009', '20th', '21st', '23', '24', '25', '30', '300', '3d', '40', '50', '500', '60', '70', '80', 'aaron', 'aaroneckhart', 'abandon', 'abduct', 'abigailbreslin', 'abil', 'abl', 'aboard', 'abov', 'abus', 'academ', 'academi', 'accept', 'access', 'accid', 'accident', 'acclaim', 'accompani', 'accomplish', 'account', 'accus', 'ace', 'achiev', 'acquaint', 'act', 'action', 'actionhero', 'activ', 'activist', 'activities', 'actor', 'actress', 'actual', 'ad', 'adam', 'adamsandl', 'adamshankman', 'adapt', 'add', 'addict', 'adjust', 'admir', 'admit', 'adolesc', 'adopt', 'ador', 'adrienbrodi', 'adult', 'adultanim', 'adulteri', 'adulthood', 'advanc', 'adventur', 'adventure', 'adventures', 'advertis', 'advic', 'advis', 'affair', 'affect', 'afghanistan', 'africa', 'african', 'africanamerican', 'aftercreditssting', 'afterlif', 'aftermath', 'ag', 'age', 'agediffer', 'agenc', 'agency', 'agenda', 'agent', 'agents', 'aggress', 'ago', 'agre', 'ahead', 'aid', 'aidanquinn', 'ail', 'aim', 'air', 'airplan', 'airplanecrash', 'airport', 'aka', 'al', 'alabama', 'alan', 'alaska', 'albert', 'alcatraz', 'alcohol', 'alecbaldwin', 'alex', 'alexkendrick', 'alfredhitchcock', 'alfredmolina', 'ali', 'alic', 'alice', 'alien', 'alieninvas', 'alienlife', 'alienplanet', 'aliens', 'alik', 'aliv', 'alive', 'allen', 'alli', 'allianc', 'allow', 'alon', 'alongsid', 'alpacino', 'alpha', 'alreadi', 'alter', 'altern', 'alway', 'alyssa', 'alzheimer', 'amanda', 'amandapeet', 'amandaseyfri', 'amateur', 'amaz', 'amazon', 'ambassador', 'ambit', 'ambiti', 'ambul', 'ambush', 'america', 'american', 'americanabroad', 'americancivilwar', 'americanfootbal', 'americanfootballplay', 'amid', 'amidst', 'amnesia', 'amp', 'amsterdam', 'amus', 'amusementpark', 'amy', 'amyadam', 'amysmart', 'ana', 'anakin', 'analyst', 'anarchiccomedi', 'ancient', 'ancientrom', 'ancientworld', 'anderson', 'andi', 'andiemacdowel', 'andrew', 'android', 'andy', 'andygarcía', 'angel', 'angela', 'angelabassett', 'angeles', 'angelinajoli', 'anger', 'angle', 'angri', 'ani', 'anim', 'animalattack', 'animalhorror', 'animals', 'anjelicahuston', 'ann', 'anna', 'annafari', 'annakendrick', 'anne', 'annehathaway', 'annemoss', 'annetteben', 'anni', 'annie', 'anniversari', 'announc', 'annual', 'anonym', 'anoth', 'answer', 'ant', 'antholog', 'anthoni', 'anthonyanderson', 'anthonyhopkin', 'anthropomorph', 'anti', 'antic', 'antihero', 'antiqu', 'antoinefuqua', 'antoniobandera', 'antonyelchin', 'anyon', 'anyth', 'apart', 'apartheid', 'apartment', 'ape', 'apocalyps', 'apocalypse', 'apocalypt', 'appar', 'appear', 'appl', 'apple', 'appoint', 'appreci', 'apprentic', 'approach', 'april', 'aquarium', 'arab', 'arch', 'archaeologist', 'archeolog', 'archer', 'architect', 'arctic', 'area', 'aren', 'arena', 'argument', 'aris', 'aristocrat', 'arm', 'armi', 'armor', 'armsdeal', 'army', 'arnold', 'arnoldschwarzenegg', 'arrang', 'arrangedmarriag', 'arrest', 'arriv', 'arrog', 'art', 'arthur', 'artifact', 'artifici', 'artificialintellig', 'artist', 'ash', 'ashley', 'ashleyjudd', 'ashtonkutch', 'asia', 'asian', 'asid', 'ask', 'aspect', 'aspir', 'assassin', 'assault', 'assembl', 'assign', 'assist', 'assistant', 'associ', 'assum', 'asteroid', 'astronaut', 'asylum', 'atheist', 'athlet', 'atom', 'atomicbomb', 'attack', 'attacks', 'attempt', 'attend', 'attent', 'attic', 'attitud', 'attorney', 'attract', 'auction', 'audienc', 'audit', 'august', 'aunt', 'austin', 'australia', 'australian', 'author', 'autism', 'auto', 'automobilerac', 'aveng', 'averag', 'avoid', 'await', 'awak', 'awaken', 'awar', 'award', 'away', 'awkward', 'awri', 'awry', 'ax', 'babe', 'babi', 'baby', 'bachelor', 'backdrop', 'background', 'backpack', 'bad', 'bag', 'bahama', 'bail', 'balanc', 'ball', 'ballet', 'balloon', 'baltimor', 'ban', 'band', 'bandit', 'bangkok', 'banish', 'bank', 'banker', 'bankrobb', 'bankrobberi', 'bar', 'barbrastreisand', 'bare', 'bargain', 'barn', 'barney', 'baron', 'barri', 'barrylevinson', 'barrysonnenfeld', 'bas', 'base', 'basebal', 'basedoncomicbook', 'basedongraphicnovel', 'basedonnovel', 'basedonplay', 'basedonstagemus', 'basedontrueev', 'basedontruestori', 'basedontvseri', 'basedonvideogam', 'basedonyoungadultnovel', 'basement', 'basketbal', 'basketball', 'bat', 'batman', 'battl', 'battle', 'battlefield', 'bay', 'beach', 'beam', 'bear', 'beard', 'beast', 'beat', 'beauti', 'beautiful', 'beautifulwoman', 'beauty', 'becam', 'becaus', 'becki', 'becom', 'becominganadult', 'bed', 'bedroom', 'bee', 'beer', 'befor', 'befriend', 'began', 'begin', 'begins', 'behavior', 'belief', 'believ', 'bell', 'bella', 'belong', 'belov', 'ben', 'benaffleck', 'bend', 'beneath', 'benefit', 'benfost', 'beniciodeltoro', 'benjamin', 'benjaminbratt', 'benkingsley', 'bennett', 'benstil', 'bent', 'berlin', 'best', 'bestfriend', 'bestfriendsinlov', 'bet', 'beth', 'betray', 'bettemidl', 'better', 'betti', 'beverli', 'bibl', 'bid', 'big', 'bigger', 'biggest', 'bike', 'biker', 'bikini', 'billhad', 'billi', 'billionair', 'billmurray', 'billnighi', 'billpaxton', 'billpullman', 'billybobthornton', 'billycrudup', 'billycryst', 'biographi', 'biolog', 'bird', 'birth', 'birthday', 'bisexu', 'bishop', 'bit', 'bite', 'bitter', 'bizarr', 'black', 'blackmag', 'blackmail', 'blackpeopl', 'blacksmith', 'blade', 'blame', 'blend', 'blind', 'bliss', 'blizzard', 'block', 'blond', 'blood', 'bloodi', 'bloodsplatt', 'bloodthirsti', 'blow', 'blue', 'board', 'boardingschool', 'boat', 'bob', 'bobbi', 'bobbyfarrelli', 'bobhoskin', 'bodi', 'body', 'bodyguard', 'bold', 'bollywood', 'bomb', 'bond', 'bone', 'book', 'border', 'bore', 'boredom', 'born', 'boss', 'boston', 'botch', 'bound', 'boundari', 'bounti', 'bountyhunt', 'bout', 'box', 'boxer', 'boy', 'boyfriend', 'boys', 'bradleycoop', 'bradpitt', 'brain', 'brainwash', 'brand', 'brandon', 'brave', 'braveri', 'brazil', 'brazilian', 'break', 'breakdown', 'breast', 'breath', 'breed', 'brendanfras', 'brendangleeson', 'brent', 'brettratn', 'brian', 'briandepalma', 'bride', 'bridesmaid', 'bridg', 'brief', 'brielarson', 'brien', 'bright', 'brilliant', 'bring', 'brink', 'britain', 'british', 'britishsecretservic', 'brittanymurphi', 'broadcast', 'broadway', 'broke', 'broken', 'broker', 'bronx', 'brook', 'brooklyn', 'broom', 'brothel', 'brother', 'brotherbrotherrelationship', 'brothers', 'brothersisterrelationship', 'brought', 'brown', 'bruce', 'brucegreenwood', 'brucewilli', 'brutal', 'bryansing', 'bu', 'buck', 'bud', 'buddi', 'buddy', 'buddycomedi', 'buddycop', 'budget', 'build', 'building', 'built', 'bullet', 'bulli', 'bumbl', 'bunch', 'bunker', 'bunni', 'burglar', 'buri', 'burn', 'bush', 'busi', 'business', 'businessman', 'bust', 'butcher', 'butler', 'butt', 'button', 'buy', 'buzz', 'cabin', 'caesar', 'cage', 'cairo', 'cal', 'california', 'calvin', 'camcord', 'came', 'camera', 'cameraman', 'camerondiaz', 'camp', 'campaign', 'campbell', 'campu', 'canada', 'canadian', 'cancer', 'candi', 'candid', 'canin', 'cannib', 'canuxploit', 'capabl', 'caper', 'capit', 'capt', 'captain', 'captiv', 'captur', 'capture', 'car', 'caraccid', 'carchas', 'carcrash', 'card', 'care', 'career', 'carefre', 'caretak', 'careymulligan', 'caribbean', 'carjourney', 'carl', 'carlagugino', 'carmen', 'carol', 'carolina', 'carrac', 'carri', 'carrie', 'cartel', 'carter', 'cartoon', 'caryelw', 'case', 'caseyaffleck', 'cash', 'casino', 'cast', 'castl', 'cat', 'cataclysm', 'catastroph', 'catch', 'cateblanchett', 'catherinedeneuv', 'catherinekeen', 'catherinezeta', 'cathol', 'catholic', 'cattl', 'caught', 'caus', 'cavalri', 'cave', 'cavemen', 'celebr', 'celebration', 'cell', 'cellphon', 'cemeteri', 'center', 'centr', 'central', 'centuri', 'centuries', 'century', 'ceo', 'certain', 'chad', 'chain', 'chainsaw', 'challeng', 'chamber', 'champion', 'championship', 'chanc', 'chance', 'chang', 'change', 'changed', 'changes', 'channingtatum', 'chao', 'chaos', 'chaotic', 'chapter', 'charact', 'character', 'characters', 'charg', 'charismat', 'charl', 'charli', 'charlie', 'charliesheen', 'charlizetheron', 'charm', 'chart', 'chase', 'chauffeur', 'chazzpalminteri', 'cheat', 'check', 'cheerlead', 'chef', 'chemic', 'cher', 'chevychas', 'chicago', 'chicken', 'chief', 'child', 'childabus', 'childhero', 'childhood', 'childprodigi', 'children', 'chill', 'chimp', 'china', 'chines', 'chip', 'chipmunk', 'chiwetelejiofor', 'chloe', 'chloëgracemoretz', 'chloësevigni', 'chocol', 'choic', 'choice', 'choos', 'chosen', 'chowyun', 'chri', 'chriscolumbu', 'chriscoop', 'chrisevan', 'chrishemsworth', 'chrisklein', 'chrispin', 'chrisrock', 'christ', 'christian', 'christianbal', 'christianslat', 'christin', 'christinaappleg', 'christinaricci', 'christma', 'christmas', 'christmasparti', 'christmastre', 'christoph', 'christopherlambert', 'christopherlloyd', 'christophernolan', 'christopherplumm', 'christopherwalken', 'christophwaltz', 'chrisweitz', 'chronicl', 'chuck', 'church', 'cia', 'ciaránhind', 'cigarettesmok', 'cillianmurphi', 'cinema', 'circl', 'circu', 'circuit', 'circumst', 'citi', 'citizen', 'city', 'civil', 'civilian', 'civilwar', 'claim', 'clair', 'clairedan', 'claireforlani', 'clan', 'clark', 'clash', 'class', 'classdiffer', 'classic', 'classmat', 'classroom', 'claudevandamm', 'clay', 'clean', 'clear', 'clerk', 'clever', 'client', 'clients', 'cliff', 'climat', 'climb', 'clinteastwood', 'cliveowen', 'clock', 'clone', 'close', 'closer', 'cloud', 'clown', 'club', 'clue', 'clueless', 'clutch', 'coach', 'coast', 'cocain', 'code', 'coffin', 'cohen', 'col', 'cold', 'coldwar', 'cole', 'colin', 'colinfarrel', 'colinfirth', 'collaps', 'colleagu', 'collect', 'collector', 'colleg', 'college', 'collid', 'collis', 'colombia', 'colonel', 'coloni', 'color', 'colorado', 'coma', 'combat', 'combin', 'come', 'comeback', 'comed', 'comedi', 'comedian', 'comedy', 'comet', 'comfort', 'comic', 'coming', 'comingofag', 'comingout', 'command', 'commando', 'commerci', 'commiss', 'commit', 'common', 'commun', 'communist', 'community', 'compani', 'companion', 'company', 'compet', 'competit', 'competition', 'complet', 'complex', 'complic', 'compos', 'compuls', 'comput', 'computerviru', 'conan', 'concern', 'concert', 'concoct', 'condit', 'condition', 'conduct', 'confeder', 'confess', 'confid', 'confin', 'conflict', 'confront', 'confus', 'congress', 'conman', 'connect', 'connecticut', 'connel', 'connor', 'conquer', 'consequ', 'consequences', 'conserv', 'consid', 'conspir', 'conspiraci', 'conspiracy', 'constant', 'constantli', 'construct', 'consum', 'contact', 'contain', 'contemporari', 'contend', 'content', 'contest', 'continu', 'contract', 'contractor', 'control', 'controversi', 'convent', 'converg', 'convers', 'convict', 'convinc', 'cook', 'cool', 'cooper', 'cop', 'cope', 'cops', 'core', 'corner', 'corp', 'corpor', 'corporation', 'corps', 'corrupt', 'cost', 'costum', 'couldn', 'counselor', 'count', 'countess', 'countless', 'countri', 'country', 'countryhous', 'countrymus', 'countrysid', 'coup', 'coupl', 'couple', 'courag', 'cours', 'court', 'courtcas', 'courteneycox', 'courtroom', 'cousin', 'cover', 'covert', 'covet', 'cow', 'cowardli', 'cowboy', 'crab', 'crack', 'craft', 'craig', 'crane', 'crash', 'crave', 'crazi', 'creat', 'creation', 'creativ', 'creator', 'creatur', 'creature', 'creatures', 'credit', 'creepi', 'crew', 'cri', 'crime', 'crimefight', 'crimes', 'crimin', 'criminal', 'criminals', 'crisi', 'crisis', 'critic', 'crocodil', 'crook', 'cross', 'crossdress', 'crowd', 'crown', 'cruel', 'cruelti', 'cruis', 'crusad', 'crush', 'crystal', 'cuba', 'cubagoodingjr', 'culmin', 'cult', 'cultfilm', 'cultur', 'culture', 'cultureclash', 'cun', 'cup', 'cure', 'current', 'curs', 'curse', 'custodi', 'custom', 'cut', 'cuttingthecord', 'cyberpunk', 'cyborg', 'cynic', 'dad', 'daili', 'dakotafan', 'dale', 'damag', 'damon', 'dan', 'danaykroyd', 'danc', 'dancer', 'danger', 'daniel', 'danielcraig', 'danielday', 'danielradcliff', 'danni', 'danny', 'dannyboyl', 'dannydevito', 'dannyglov', 'dare', 'dark', 'darkcomedi', 'darkest', 'darkness', 'darylhannah', 'dash', 'date', 'daughter', 'daughters', 'dave', 'davi', 'david', 'davidarquett', 'davidcronenberg', 'davidduchovni', 'davidfinch', 'davidgordongreen', 'davidmors', 'davido', 'davidschwimm', 'davidspad', 'davidthewli', 'dawn', 'daxshepard', 'day', 'daydream', 'days', 'dc', 'dccomic', 'dea', 'dead', 'deadli', 'deadliest', 'deaf', 'deal', 'dealer', 'dean', 'death', 'deathofafriend', 'deathoffath', 'deathpenalti', 'debt', 'debut', 'decad', 'decapit', 'deceas', 'deceit', 'decept', 'decid', 'decis', 'declar', 'dedic', 'deed', 'deep', 'deeper', 'deepli', 'defeat', 'defend', 'defens', 'defi', 'defin', 'delight', 'deliv', 'deliveri', 'delus', 'demand', 'demimoor', 'demon', 'demonicpossess', 'demons', 'deni', 'deniserichard', 'denmark', 'denni', 'dennisdugan', 'dennishopp', 'dennisquaid', 'dentist', 'denzelwashington', 'depart', 'depend', 'depict', 'depress', 'depth', 'deputi', 'derang', 'derek', 'derekluk', 'descend', 'describ', 'desert', 'design', 'desir', 'desk', 'desol', 'despair', 'desper', 'despit', 'destin', 'destini', 'destiny', 'destroy', 'destroyed', 'destruct', 'destruction', 'detect', 'detective', 'determin', 'detroit', 'devast', 'develop', 'devic', 'devil', 'deviou', 'devis', 'devot', 'diabol', 'diagnos', 'dialogu', 'diamond', 'dian', 'dianekeaton', 'dianekrug', 'dianelan', 'diari', 'dick', 'dictat', 'did', 'didn', 'die', 'died', 'diego', 'dies', 'differ', 'different', 'difficult', 'difficulti', 'dig', 'dilemma', 'diner', 'dinner', 'dinosaur', 'diplomat', 'dire', 'direct', 'director', 'dirt', 'dirti', 'dirtycop', 'disabl', 'disappear', 'disappears', 'disast', 'disaster', 'disastr', 'discov', 'discoveri', 'diseas', 'disease', 'disfigur', 'disgrac', 'disguis', 'dishonesti', 'disillus', 'disney', 'disord', 'dispatch', 'disrupt', 'distant', 'district', 'distrust', 'disturb', 'ditch', 'diva', 'dive', 'divid', 'divis', 'divorc', 'divorce', 'dj', 'dna', 'doc', 'doctor', 'document', 'documentari', 'dodg', 'doe', 'doesn', 'dog', 'doll', 'dollar', 'dolphin', 'domest', 'domin', 'don', 'donaldpetri', 'donaldsutherland', 'doncheadl', 'donnel', 'doom', 'doomsday', 'door', 'doorstep', 'doppelgang', 'dorothi', 'doubl', 'double', 'doublecross', 'doublelif', 'doubt', 'doug', 'dougliman', 'dr', 'dracula', 'drag', 'dragon', 'drama', 'dramat', 'draw', 'drawn', 'dread', 'dream', 'dreams', 'dress', 'drew', 'drewbarrymor', 'drift', 'drifter', 'drink', 'drive', 'driven', 'driver', 'drone', 'drop', 'drown', 'drug', 'drugabus', 'drugaddict', 'drugdeal', 'druglord', 'drugs', 'drugsmuggl', 'drugtraff', 'drugus', 'drunk', 'drunken', 'du', 'dualident', 'dub', 'duck', 'dude', 'duel', 'duke', 'dump', 'duo', 'dure', 'duringcreditssting', 'dustinhoffman', 'dutch', 'duti', 'dwarv', 'dwaynejohnson', 'dyinganddeath', 'dylan', 'dynam', 'dynasti', 'dysfunct', 'dysfunctionalfamili', 'dystopia', 'dystopicfutur', 'eager', 'earli', 'earlier', 'earn', 'earth', 'earthquak', 'easi', 'easili', 'east', 'eat', 'eccentr', 'econom', 'economi', 'eddi', 'eddiegriffin', 'eddiemurphi', 'edg', 'edgar', 'edharri', 'editor', 'educ', 'edward', 'edwardburn', 'edwardnorton', 'edwardzwick', 'effect', 'effort', 'egg', 'ego', 'egypt', 'egyptian', 'el', 'elabor', 'elderli', 'elect', 'element', 'eleph', 'elev', 'eliaskotea', 'elijahwood', 'elimin', 'elisabethshu', 'elit', 'elite', 'elizabeth', 'elizabethbank', 'ella', 'ellenburstyn', 'ellenpag', 'elli', 'elliot', 'elliott', 'els', 'elud', 'elus', 'elv', 'elvi', 'embark', 'embassi', 'embroil', 'emerg', 'emigr', 'emilehirsch', 'emili', 'emilyblunt', 'emilymortim', 'emilywatson', 'emma', 'emmarobert', 'emmaston', 'emmathompson', 'emmawatson', 'emot', 'emperor', 'empir', 'empire', 'employ', 'employe', 'employer', 'enabl', 'enchant', 'encount', 'encourag', 'end', 'endless', 'endoftheworld', 'endur', 'enemi', 'enemies', 'enemy', 'energi', 'enforc', 'engag', 'engin', 'england', 'english', 'enigmat', 'enjoy', 'enlist', 'enorm', 'enrol', 'ensemblecast', 'ensu', 'ensues', 'ensur', 'entangl', 'enter', 'enterpris', 'entertain', 'enthusiast', 'entir', 'entiti', 'environ', 'environment', 'epic', 'epidem', 'episod', 'equal', 'era', 'eric', 'ericbana', 'erin', 'ernest', 'erotic', 'erupt', 'escap', 'escapad', 'escape', 'escapefromprison', 'escort', 'especi', 'espionag', 'establish', 'estat', 'estrang', 'etern', 'ethan', 'ethanhawk', 'ethic', 'eugenelevi', 'europ', 'european', 'eva', 'evacu', 'evad', 'evamend', 'evanrachelwood', 'eve', 'event', 'events', 'eventu', 'eventually', 'everi', 'everybodi', 'everyday', 'everyon', 'everyth', 'evid', 'evil', 'evolut', 'evolv', 'ewanmcgregor', 'ex', 'exact', 'exactli', 'exam', 'examin', 'exchang', 'excit', 'exclus', 'execut', 'exercis', 'exhibit', 'exil', 'exist', 'existence', 'existenti', 'exorc', 'exot', 'exoticisland', 'expect', 'expected', 'expedit', 'experi', 'experienc', 'experience', 'experiment', 'expert', 'explain', 'explod', 'exploit', 'explor', 'explos', 'expos', 'extend', 'extra', 'extramaritalaffair', 'extraordinari', 'extraterrestri', 'extraterrestrialtechnolog', 'extrem', 'extremeviol', 'eye', 'eyes', 'fabl', 'fac', 'face', 'facil', 'fact', 'faction', 'factori', 'fade', 'fail', 'fairi', 'fairytal', 'faith', 'fake', 'falcon', 'fall', 'fallen', 'fallinginlov', 'fals', 'falseident', 'falselyaccus', 'fame', 'famili', 'families', 'family', 'familyconflict', 'familyrelationship', 'famkejanssen', 'famou', 'famous', 'fan', 'fanat', 'fangvamp', 'fans', 'fantasi', 'fantast', 'fantasyworld', 'far', 'farewel', 'farm', 'farmer', 'fascin', 'fashion', 'fast', 'faster', 'fat', 'fatal', 'fate', 'father', 'fatherdaughterrelationship', 'fathersonrelationship', 'favor', 'favorit', 'fbi', 'fbiagent', 'fear', 'fearless', 'fearsom', 'featur', 'fed', 'feder', 'feed', 'feel', 'feet', 'fellow', 'femal', 'female', 'femalecorps', 'femalefriendship', 'femalenud', 'femaleprotagonist', 'fend', 'festiv', 'festival', 'fetish', 'feud', 'fi', 'fiance', 'fiancé', 'fiction', 'fictionalplac', 'field', 'fierc', 'fifth', 'fight', 'fighter', 'figur', 'fil', 'file', 'film', 'filmdirector', 'filmmak', 'filmproduc', 'films', 'final', 'finale', 'financ', 'financi', 'fine', 'finish', 'finn', 'firemen', 'firework', 'firm', 'firsttim', 'fish', 'fisherman', 'fishoutofwat', 'fistfight', 'fit', 'fix', 'flame', 'flash', 'flashback', 'flat', 'fledgl', 'flee', 'flesh', 'fli', 'flight', 'fling', 'flint', 'flirt', 'flood', 'florida', 'florist', 'flower', 'flyingsauc', 'focu', 'focus', 'foe', 'foil', 'foley', 'folk', 'follow', 'food', 'foot', 'footag', 'footbal', 'footchas', 'forbidden', 'forbiddenlov', 'forc', 'force', 'forces', 'ford', 'foreign', 'forest', 'forestwhitak', 'forev', 'forever', 'forg', 'forget', 'forgiv', 'form', 'formid', 'formula', 'fort', 'fortun', 'fortune', 'fortunetel', 'forward', 'foster', 'fought', 'foundfootag', 'fourth', 'fox', 'frame', 'franc', 'france', 'francisco', 'francisfordcoppola', 'frank', 'frankcoraci', 'frankenstein', 'franki', 'frankoz', 'frantic', 'fratern', 'fraud', 'freak', 'fred', 'freddi', 'freddieprinzejr', 'free', 'freedom', 'freeman', 'freez', 'french', 'frequent', 'fresh', 'freshman', 'friend', 'friendli', 'friends', 'friendship', 'frighten', 'frog', 'fromragstorich', 'frontier', 'frozen', 'frustrat', 'fu', 'fuel', 'fugit', 'fulfil', 'fulli', 'fun', 'fund', 'funer', 'funeral', 'furiou', 'futur', 'future', 'futurist', 'fword', 'ga', 'gabriel', 'gabrielbyrn', 'gadget', 'gaelgarcíabern', 'gain', 'galaxi', 'galaxy', 'gambl', 'gambler', 'game', 'games', 'gandhi', 'gang', 'gangs', 'gangster', 'gangsterboss', 'gangwar', 'garag', 'garden', 'garfield', 'gari', 'garrymarshal', 'garygray', 'garyoldman', 'garysinis', 'gasstat', 'gather', 'gave', 'gay', 'gayinterest', 'gayrelationship', 'genehackman', 'gener', 'general', 'generation', 'genet', 'geniu', 'genius', 'gentl', 'geoffreyrush', 'georg', 'george', 'georgea', 'georgeclooney', 'georgemil', 'georgia', 'gerardbutl', 'german', 'germani', 'germany', 'getaway', 'ghetto', 'ghost', 'giant', 'gift', 'gig', 'girl', 'girlfriend', 'girls', 'given', 'glamor', 'glass', 'glennclos', 'global', 'globe', 'glori', 'goal', 'god', 'goe', 'gold', 'golden', 'golf', 'gone', 'good', 'goodvsevil', 'gordon', 'gore', 'goreverbinski', 'gorgeou', 'gorilla', 'gossip', 'got', 'gotham', 'gothamc', 'gotten', 'govern', 'government', 'governor', 'grace', 'grad', 'grade', 'gradual', 'graduat', 'grand', 'grandfath', 'grandfather', 'grandmoth', 'grandmother', 'grant', 'graphic', 'grasp', 'grave', 'great', 'greater', 'greatest', 'greec', 'greed', 'greedi', 'greek', 'green', 'greg', 'gregkinnear', 'gregorypeck', 'grew', 'grief', 'griev', 'griffin', 'grim', 'grip', 'grisli', 'ground', 'group', 'groupoffriend', 'grow', 'growingup', 'grown', 'gruesom', 'gu', 'guard', 'guardian', 'guerrilla', 'guest', 'guid', 'guilt', 'guitar', 'gun', 'gunfight', 'gunman', 'gunsling', 'guru', 'gusvans', 'guy', 'guypearc', 'guyritchi', 'guys', 'gwynethpaltrow', 'gym', 'gypsi', 'ha', 'hack', 'hacker', 'hair', 'haleyjoelos', 'half', 'hall', 'halleberri', 'halloween', 'hallucin', 'han', 'hand', 'handl', 'hands', 'handsom', 'handtohandcombat', 'hang', 'hangov', 'hannah', 'hansel', 'hapless', 'happen', 'happens', 'happi', 'happili', 'happiness', 'happy', 'hara', 'harass', 'harbor', 'hard', 'harder', 'harlem', 'harmoni', 'harold', 'haroldrami', 'harri', 'harriet', 'harrison', 'harrisonford', 'harrow', 'harry', 'harsh', 'hart', 'harvard', 'harvey', 'harveykeitel', 'hasn', 'hatch', 'hate', 'hatr', 'haunt', 'hauntedhous', 'haven', 'havoc', 'hawaii', 'haydenchristensen', 'haze', 'head', 'headlin', 'heal', 'health', 'hear', 'heard', 'heart', 'heartattack', 'heartbreak', 'heat', 'heather', 'heathergraham', 'heathledg', 'heaven', 'heavi', 'heavili', 'heavymet', 'height', 'heir', 'heiress', 'heist', 'held', 'helen', 'helenabonhamcart', 'helenhunt', 'helenmirren', 'helicopt', 'hell', 'help', 'henchmen', 'henri', 'hero', 'heroes', 'heroic', 'heroin', 'heroism', 'hi', 'hidden', 'hiddencamera', 'hide', 'high', 'higher', 'highest', 'highland', 'highli', 'highschool', 'highschoolsport', 'highschoolstud', 'highway', 'hijack', 'hike', 'hilari', 'hilaryduff', 'hilaryswank', 'hill', 'himalaya', 'hip', 'hippi', 'hire', 'histor', 'histori', 'historicalfigur', 'history', 'hit', 'hitch', 'hitchhik', 'hitman', 'ho', 'hobbit', 'hockey', 'hold', 'hole', 'holi', 'holiday', 'holli', 'hollywood', 'home', 'homeinvas', 'homeland', 'homeless', 'homelessperson', 'hometown', 'homicid', 'homophobia', 'homosexu', 'honey', 'honeymoon', 'hong', 'hongkong', 'honor', 'hood', 'hoodlum', 'hook', 'hop', 'hope', 'hopedavi', 'hopelessli', 'hopper', 'hord', 'horribl', 'horrif', 'horrifi', 'horror', 'hors', 'horsebackrid', 'horserac', 'hospit', 'hospital', 'host', 'hostag', 'hostage', 'hostil', 'hot', 'hotel', 'hotelroom', 'hotshot', 'hour', 'hous', 'house', 'household', 'housewif', 'howard', 'howev', 'hud', 'huge', 'hugh', 'hughgrant', 'hughjackman', 'human', 'humananimalrelationship', 'humanity', 'humankind', 'humans', 'humili', 'humor', 'hundr', 'hunger', 'hungri', 'hunt', 'hunter', 'hunters', 'hurrican', 'hurt', 'husband', 'hustler', 'hypnosi', 'hypnot', 'hyster', 'hyun', 'ianmckellen', 'ice', 'icecub', 'icon', 'idea', 'ideal', 'idealist', 'ident', 'identity', 'idol', 'idyl', 'ignit', 'ignor', 'ii', 'iii', 'il', 'ill', 'illeg', 'illegaldrug', 'illegalimmigr', 'illegalprostitut', 'illness', 'illus', 'illustr', 'imag', 'imagin', 'imaginari', 'imagined', 'imax', 'immedi', 'immens', 'immigr', 'immort', 'impact', 'imperi', 'imperson', 'implic', 'import', 'imposs', 'impostor', 'impress', 'imprison', 'inadvert', 'incest', 'incid', 'includ', 'incompet', 'increas', 'increasingli', 'incred', 'independ', 'independentfilm', 'indi', 'india', 'indian', 'indiana', 'indianlead', 'individu', 'industri', 'industry', 'inevit', 'inexplic', 'infam', 'infant', 'infect', 'infidel', 'infiltr', 'influenc', 'inform', 'inhabit', 'inherit', 'initi', 'inject', 'injur', 'injuri', 'inmat', 'inner', 'innoc', 'insan', 'insecur', 'insid', 'insight', 'insist', 'insomnia', 'inspector', 'inspir', 'instal', 'instant', 'instantli', 'instead', 'instinct', 'institut', 'institution', 'instructor', 'insur', 'insurg', 'intellig', 'intend', 'intens', 'intent', 'intergalact', 'intern', 'internet', 'interpret', 'interrog', 'interspeciesrom', 'intertwin', 'interview', 'intim', 'intoler', 'intrigu', 'introduc', 'invad', 'invas', 'invent', 'inventor', 'invest', 'investig', 'investigate', 'invis', 'invit', 'involv', 'iowa', 'ira', 'iran', 'iranian', 'iraq', 'iraqwar', 'ireland', 'irish', 'iron', 'islam', 'island', 'isn', 'isol', 'isra', 'israel', 'issu', 'itali', 'italian', 'ivanreitman', 'jack', 'jackass', 'jackblack', 'jacki', 'jackiechan', 'jacknicholson', 'jackson', 'jacob', 'jadapinkettsmith', 'jade', 'jail', 'jake', 'jakegyllenha', 'jamaica', 'jame', 'james', 'jamescaan', 'jamescameron', 'jamesfranco', 'jamesivori', 'jamesmangold', 'jamesmarsden', 'jamesmcavoy', 'jameswan', 'jameswood', 'jami', 'jamie', 'jamiefoxx', 'jamieleecurti', 'jan', 'jane', 'janitor', 'japan', 'japanes', 'jaredleto', 'jason', 'jasonbateman', 'jasonbigg', 'jasonle', 'jasonschwartzman', 'jasonsegel', 'jasonstatham', 'javierbardem', 'jay', 'jaychandrasekhar', 'jayroach', 'jazz', 'jealousi', 'jean', 'jeanreno', 'jedi', 'jeff', 'jeffbridg', 'jeffdaniel', 'jeffgoldblum', 'jeffreywright', 'jennif', 'jenniferaniston', 'jenniferconnelli', 'jennifergarn', 'jenniferjasonleigh', 'jenniferlawr', 'jenniferlopez', 'jenniferlovehewitt', 'jeremyiron', 'jeremyrenn', 'jerri', 'jersey', 'jerusalem', 'jess', 'jessebradford', 'jesseeisenberg', 'jessica', 'jessicaalba', 'jessicabiel', 'jessicachastain', 'jesu', 'jesus', 'jesuschrist', 'jetli', 'jew', 'jewel', 'jewish', 'jigsaw', 'jill', 'jim', 'jimbroadb', 'jimcarrey', 'jimcaviezel', 'jimmi', 'jimmy', 'jin', 'joanallen', 'joancusack', 'joaquinphoenix', 'job', 'jobinterview', 'jock', 'jodiefost', 'joe', 'joel', 'joelcoen', 'joeledgerton', 'joelschumach', 'joepesci', 'joey', 'john', 'johnc', 'johncarpent', 'johncusack', 'johngoodman', 'johnhurt', 'johnkrasinski', 'johnleguizamo', 'johnmalkovich', 'johnmctiernan', 'johnni', 'johnny', 'johnnydepp', 'johnnyknoxvil', 'johnsingleton', 'johnson', 'johntravolta', 'johnturturro', 'johnwoo', 'join', 'jon', 'jonahhil', 'jonathan', 'jonathanfrak', 'jonathanrhysmey', 'jone', 'jones', 'jonfavreau', 'jonturteltaub', 'jonvoight', 'jordan', 'joseph', 'josephgordon', 'josh', 'joshbrolin', 'joshhartnett', 'joshhutcherson', 'journal', 'journalist', 'journey', 'joy', 'jr', 'juan', 'judelaw', 'judg', 'judidench', 'juli', 'julia', 'julian', 'juliannemoor', 'juliarobert', 'juliastil', 'julie', 'jump', 'jungl', 'jungle', 'junior', 'junki', 'just', 'justic', 'justice', 'justinlong', 'justintimberlak', 'kansa', 'karat', 'karen', 'karlurban', 'kat', 'kate', 'katebeckinsal', 'katebosworth', 'katehudson', 'katemara', 'katewinslet', 'katherin', 'katherineheigl', 'kathi', 'kathyb', 'kati', 'katieholm', 'katniss', 'kay', 'keanureev', 'keiraknightley', 'kelli', 'kelly', 'kellypreston', 'ken', 'kennethbranagh', 'kermit', 'kevin', 'kevinbacon', 'kevincostn', 'kevinhart', 'kevinjam', 'kevinklin', 'kevinsmith', 'kevinspacey', 'key', 'kgb', 'khan', 'kick', 'kid', 'kidnap', 'kidnapp', 'kidnapped', 'kids', 'kidsandfamili', 'kiefersutherland', 'kill', 'killed', 'killer', 'killerrobot', 'killers', 'kim', 'kimbasing', 'kind', 'king', 'kingdom', 'kingpin', 'kirk', 'kirstendunst', 'kiss', 'kit', 'kitchen', 'knew', 'knife', 'knight', 'knit', 'knock', 'know', 'knowledg', 'known', 'kong', 'korea', 'korean', 'kowalski', 'kriskristofferson', 'kristenbel', 'kristenstewart', 'kristenwiig', 'kristinscottthoma', 'krueger', 'kung', 'kungfu', 'kurt', 'kurtrussel', 'kyle', 'la', 'lab', 'labor', 'laboratori', 'lac', 'lack', 'ladi', 'ladies', 'ladykil', 'laid', 'lake', 'land', 'landscap', 'lane', 'languag', 'lapd', 'larg', 'larger', 'largest', 'larri', 'laser', 'lasergun', 'lassehallström', 'lasvega', 'late', 'later', 'latest', 'laugh', 'launch', 'laura', 'lauralinney', 'laurencefishburn', 'lavish', 'law', 'lawman', 'lawrenc', 'lawyer', 'lax', 'lay', 'lazi', 'le', 'lead', 'leader', 'leadership', 'leagu', 'learn', 'leav', 'led', 'lee', 'left', 'leg', 'legaci', 'legacy', 'legal', 'legend', 'legendari', 'legends', 'legion', 'lenaheadey', 'length', 'leo', 'leon', 'leonardnimoy', 'leonardodicaprio', 'lesbian', 'lesbianrelationship', 'lesliemann', 'leslienielsen', 'lesson', 'let', 'lethal', 'letter', 'level', 'levitt', 'lewi', 'lgbt', 'li', 'liaison', 'liamneeson', 'liar', 'liber', 'lie', 'lieuten', 'lievschreib', 'lif', 'life', 'lifeanddeath', 'lifelong', 'lifestyl', 'lifetim', 'lift', 'light', 'lightn', 'lik', 'like', 'lili', 'limit', 'lincoln', 'linda', 'lindsaylohan', 'line', 'lines', 'link', 'lion', 'lisa', 'lisakudrow', 'list', 'listen', 'liter', 'literatur', 'littl', 'littleboy', 'live', 'liveactionandanim', 'lives', 'living', 'lizzi', 'll', 'lloyd', 'lo', 'loan', 'local', 'locat', 'lock', 'logan', 'loganlerman', 'lola', 'london', 'londonengland', 'lone', 'loneli', 'loner', 'lonewolf', 'long', 'longer', 'longtim', 'look', 'loop', 'loos', 'loose', 'loot', 'lord', 'losangel', 'lose', 'loser', 'loss', 'lossofbroth', 'lossofchild', 'lossoffamili', 'lossoffath', 'lossofhusband', 'lossoflov', 'lossofmoth', 'lossofpar', 'lossofson', 'lost', 'lot', 'lotteri', 'lou', 'loui', 'louisiana', 'lov', 'lovabl', 'love', 'loveatfirstsight', 'loveless', 'lovelett', 'loveofone', 'lover', 'loves', 'lovesick', 'lovetriangl', 'low', 'loyal', 'loyalti', 'lt', 'luca', 'luci', 'luck', 'lucki', 'lucy', 'lucyliu', 'luke', 'lukewilson', 'lure', 'lurk', 'lust', 'luxuri', 'ma', 'machin', 'machine', 'machinegun', 'maci', 'mad', 'madam', 'madea', 'madison', 'madness', 'madonna', 'mafia', 'magazin', 'maggi', 'maggie', 'magic', 'magician', 'maid', 'mail', 'main', 'maintain', 'major', 'mak', 'make', 'malcolm', 'malcolmd', 'male', 'malefemalerelationship', 'malefriendship', 'malenud', 'malibu', 'mall', 'man', 'manag', 'manager', 'mandymoor', 'manhattan', 'manhunt', 'mani', 'maniac', 'manipul', 'mankind', 'mann', 'manner', 'mansion', 'manufactur', 'manvsmachin', 'map', 'mar', 'marcforst', 'march', 'marcu', 'mari', 'maria', 'mariabello', 'marijuana', 'marin', 'marisatomei', 'mark', 'market', 'markruffalo', 'markstrong', 'markwahlberg', 'marlonbrando', 'marlonwayan', 'marri', 'marriag', 'marriage', 'marriagecrisi', 'marriagepropos', 'married', 'marriedcoupl', 'marsh', 'marshal', 'martha', 'marti', 'martial', 'martialart', 'martian', 'martin', 'martincampbel', 'martinfreeman', 'martinlawr', 'martinscorses', 'marvelcinematicunivers', 'marvelcom', 'mary', 'marymccormack', 'mask', 'maskedkil', 'mass', 'massacr', 'massiv', 'massmurd', 'master', 'mastermind', 'masturb', 'match', 'mate', 'materi', 'mathemat', 'mathematician', 'matrix', 'matt', 'mattdamon', 'mattdillon', 'matter', 'matteroflifeanddeath', 'matthew', 'matthewbroderick', 'matthewlillard', 'matthewmcconaughey', 'maverick', 'max', 'maya', 'mayb', 'mayhem', 'mayor', 'maze', 'mccall', 'mcclane', 'mean', 'meant', 'meanwhil', 'meat', 'mechan', 'medal', 'medallion', 'media', 'medic', 'medicin', 'mediev', 'meet', 'mega', 'megan', 'megryan', 'melbrook', 'melgibson', 'melissa', 'melvin', 'member', 'members', 'memoir', 'memori', 'memoryloss', 'men', 'menac', 'mental', 'mentalil', 'mentallydis', 'mentor', 'mephisto', 'mercenari', 'merchant', 'merciless', 'mere', 'mermaid', 'merylstreep', 'messag', 'met', 'metal', 'meteor', 'method', 'metro', 'mexican', 'mexicanstandoff', 'mexico', 'mia', 'miami', 'michael', 'michaelangarano', 'michaelbay', 'michaelcain', 'michaeldougla', 'michaelfassbend', 'michaelj', 'michaelkeaton', 'michaelmoor', 'michaelshannon', 'michaelsheen', 'michel', 'michellemonaghan', 'michellepfeiff', 'michellerodriguez', 'michigan', 'mickey', 'mickeyrourk', 'mid', 'middl', 'middle', 'middleag', 'middleeast', 'midlifecrisi', 'midnight', 'midst', 'midwest', 'mighti', 'mike', 'mikemy', 'mikenewel', 'milakuni', 'mild', 'mile', 'militari', 'millajovovich', 'miller', 'million', 'millionair', 'milo', 'mind', 'mindcontrol', 'miner', 'minion', 'minist', 'minnesota', 'minniedriv', 'minor', 'minut', 'miracl', 'miracul', 'miranda', 'mirror', 'misadventur', 'misanthrop', 'mischiev', 'miser', 'misfit', 'misguid', 'mismatch', 'misogynist', 'miss', 'missil', 'missing', 'missingperson', 'mission', 'missionari', 'missionofmurd', 'mississippi', 'missouri', 'mistak', 'mistaken', 'mistakenident', 'mistakenli', 'mistress', 'mitch', 'mitchel', 'mix', 'mob', 'mobster', 'mockumentari', 'model', 'modern', 'mole', 'molli', 'mom', 'moment', 'money', 'monica', 'monk', 'monkey', 'monster', 'monsters', 'monstrou', 'montana', 'month', 'months', 'montreal', 'moon', 'moonlight', 'moor', 'moore', 'moral', 'morganfreeman', 'morgu', 'mormon', 'morn', 'morrischestnut', 'mortal', 'moscow', 'mose', 'mossad', 'mostli', 'motel', 'mother', 'motherdaughterrelationship', 'motherrol', 'mothersonrelationship', 'motion', 'motiv', 'motley', 'motor', 'motorcycl', 'mount', 'mountain', 'mountains', 'mous', 'mouth', 'movement', 'movi', 'movie', 'movieinmovi', 'movies', 'moviestar', 'mr', 'multi', 'multipl', 'multiplestorylin', 'mumblecor', 'mumblegor', 'murder', 'murdered', 'murderer', 'murderhunt', 'murphi', 'murray', 'muse', 'museum', 'music', 'musicband', 'musician', 'musket', 'muslim', 'mut', 'mutant', 'mutat', 'mutini', 'mutual', 'mysteri', 'mystery', 'mystic', 'myth', 'mythic', 'mytholog', 'naiv', 'nam', 'nanni', 'naomiwatt', 'narcot', 'narnia', 'narrat', 'nasa', 'nasti', 'natalieportman', 'nathan', 'nation', 'nativ', 'nativeamerican', 'natur', 'naturaldisast', 'nature', 'navi', 'navig', 'navys', 'nazi', 'nazigermani', 'nba', 'near', 'nearbi', 'nearli', 'necessari', 'need', 'nefari', 'negoti', 'neighbor', 'neighborhood', 'neil', 'neiljordan', 'nelson', 'nemesi', 'nemesis', 'neo', 'nephew', 'nerd', 'nerdi', 'netherland', 'network', 'nevada', 'nevecampbel', 'new', 'newborn', 'newcom', 'newfound', 'newident', 'newjersey', 'newli', 'newlov', 'newlyw', 'newmexico', 'news', 'newspap', 'newyear', 'newyork', 'newyorkc', 'nialong', 'nice', 'nick', 'nicknolt', 'nicol', 'nicolascag', 'nicolekidman', 'niec', 'niece', 'night', 'nightclub', 'nightlif', 'nightmar', 'nightmare', 'nightshyamalan', 'nightstand', 'ninja', 'noah', 'nobl', 'nobodi', 'noir', 'nomad', 'non', 'normal', 'norman', 'north', 'northern', 'nose', 'note', 'noth', 'notic', 'notori', 'novel', 'novelist', 'nowher', 'nuclear', 'nuclearmissil', 'nuditi', 'number', 'numberintitl', 'numer', 'nun', 'nurs', 'nypd', 'object', 'observ', 'obsess', 'obsession', 'obstacl', 'obtain', 'occasion', 'occult', 'occup', 'occupi', 'occur', 'ocean', 'odd', 'oddbal', 'odds', 'odyssey', 'offer', 'offic', 'office', 'officer', 'offici', 'ogr', 'ohio', 'oil', 'old', 'older', 'oliv', 'oliverston', 'olivia', 'oliviawild', 'olymp', 'olympicgam', 'omar', 'onc', 'onli', 'onlin', 'ontherun', 'open', 'oper', 'opera', 'operation', 'opportun', 'oppos', 'opposit', 'oppositesattract', 'oppress', 'orc', 'orchestr', 'order', 'ordinari', 'oregon', 'organ', 'organization', 'organizedcrim', 'origin', 'orlandobloom', 'orlean', 'orphan', 'orphanag', 'orphanage', 'oscar', 'oscaraward', 'oscarisaac', 'otherworldli', 'outback', 'outbreak', 'outcast', 'outerspac', 'outlaw', 'outrag', 'outsid', 'outwit', 'overcom', 'overrun', 'overthrow', 'overwhelm', 'owenwilson', 'owl', 'owner', 'oxford', 'oz', 'pacif', 'pack', 'packag', 'pact', 'pageant', 'paid', 'pain', 'paint', 'painter', 'pair', 'pal', 'palac', 'pam', 'pan', 'pandora', 'panic', 'panther', 'paper', 'parallel', 'parallelworld', 'paranoia', 'paranoid', 'paranorm', 'parent', 'parents', 'parentskidsrelationship', 'pari', 'paris', 'parisian', 'park', 'parker', 'parodi', 'parol', 'parrish', 'parti', 'particip', 'particularli', 'parties', 'partner', 'partners', 'partnership', 'party', 'pass', 'passeng', 'passion', 'past', 'pastor', 'path', 'patient', 'patriarch', 'patriciaarquett', 'patrick', 'patrickstewart', 'patrickwilson', 'patriot', 'patrol', 'paul', 'paulapatton', 'paulbettani', 'paulgiamatti', 'paulgreengrass', 'paulnewman', 'paulrudd', 'paulw', 'paulwalk', 'pawn', 'pay', 'peac', 'peace', 'pearl', 'peasant', 'pedophilia', 'penguin', 'penn', 'pennsylvania', 'penélopecruz', 'peopl', 'people', 'perfect', 'perform', 'peril', 'period', 'perioddrama', 'perry', 'persian', 'person', 'persuad', 'peru', 'pet', 'pete', 'peter', 'peterberg', 'peterjackson', 'petersarsgaard', 'peterseg', 'petti', 'phantom', 'phil', 'philadelphia', 'philipseymourhoffman', 'phillipnoyc', 'philosoph', 'philosophi', 'phone', 'photo', 'photograph', 'photographi', 'physic', 'pianist', 'piano', 'picard', 'pick', 'pictur', 'picture', 'piec', 'piercebrosnan', 'pierr', 'pig', 'pilot', 'pimp', 'pink', 'pinocchio', 'piperperabo', 'pirat', 'pistol', 'pit', 'pitch', 'place', 'plagu', 'plan', 'plane', 'planet', 'plannedmurd', 'plans', 'plant', 'plantat', 'play', 'playboy', 'player', 'playground', 'playwright', 'pleasur', 'pledg', 'plenti', 'plot', 'plung', 'po', 'poet', 'poetri', 'point', 'poison', 'poker', 'polar', 'polic', 'police', 'policebrut', 'policechas', 'policeman', 'policeoffic', 'policeoper', 'polit', 'politician', 'polli', 'pool', 'poor', 'pop', 'popstar', 'popul', 'popular', 'porn', 'pornographi', 'port', 'portal', 'porter', 'portrait', 'portray', 'pose', 'posit', 'possess', 'possibl', 'post', 'posttraumaticstressdisord', 'pot', 'potenti', 'potter', 'pound', 'poverti', 'pow', 'power', 'poweroutag', 'powers', 'practic', 'prank', 'prayer', 'pre', 'preacher', 'preciou', 'predat', 'predict', 'prefer', 'pregnanc', 'pregnancyandbirth', 'pregnant', 'prehistor', 'prejudic', 'premonit', 'prepar', 'prequel', 'presenc', 'present', 'presid', 'president', 'presidenti', 'presidentialelect', 'press', 'pressur', 'prestigi', 'presum', 'pretend', 'pretti', 'prevent', 'previou', 'prey', 'price', 'priceless', 'pride', 'priest', 'prime', 'princ', 'prince', 'princess', 'princip', 'principl', 'prison', 'prisonersofwar', 'privat', 'privatedetect', 'privileg', 'prize', 'pro', 'problem', 'problems', 'process', 'prodigi', 'produc', 'product', 'production', 'profession', 'professor', 'profil', 'profit', 'program', 'progress', 'project', 'prom', 'promin', 'promis', 'promot', 'prompt', 'proof', 'properti', 'propheci', 'propos', 'prosecut', 'prospect', 'prostitut', 'protect', 'protest', 'prove', 'provid', 'psychiatr', 'psychiatrist', 'psychic', 'psycholog', 'psychologist', 'psychopath', 'psychot', 'pub', 'puberti', 'public', 'publicist', 'publish', 'pull', 'punish', 'punk', 'puppet', 'puppi', 'purchas', 'pure', 'purpos', 'pursu', 'pursuit', 'push', 'quarantin', 'quarterback', 'queen', 'queenlatifah', 'quentintarantino', 'quest', 'question', 'quick', 'quickli', 'quiet', 'quirki', 'quit', 'rabbit', 'race', 'raceagainsttim', 'racehors', 'racer', 'rachaelleighcook', 'rachel', 'rachelmcadam', 'rachelweisz', 'racial', 'racism', 'radiat', 'radic', 'radio', 'rag', 'rage', 'rageandh', 'ragtag', 'raid', 'railroad', 'rain', 'rais', 'ralli', 'ralph', 'ralphfienn', 'rampag', 'ran', 'ranch', 'rancher', 'ranger', 'rank', 'ransom', 'rape', 'rapidli', 'rapmus', 'rapper', 'rare', 'rat', 'rate', 'ravag', 'raw', 'ray', 'rayliotta', 'raymond', 'raywinston', 'reach', 'reaction', 'read', 'readi', 'real', 'realis', 'realiti', 'reality', 'realiz', 'realli', 'realm', 'reaper', 'reason', 'rebecca', 'rebeccahal', 'rebel', 'rebelli', 'rebellion', 'reboot', 'rebuild', 'receiv', 'recent', 'reckless', 'reclaim', 'reclus', 'reconcil', 'reconnect', 'record', 'recount', 'recov', 'recreat', 'recruit', 'red', 'redempt', 'redemption', 'rediscov', 'redneck', 'reel', 'reesewitherspoon', 'reflect', 'refug', 'refus', 'regain', 'regard', 'regim', 'regret', 'regular', 'reign', 'reilli', 'reject', 'rekindl', 'rel', 'relat', 'relationship', 'relationshipproblem', 'relationships', 'releas', 'relentless', 'reli', 'religi', 'religion', 'religionandsupernatur', 'reloc', 'reluct', 'reluctantli', 'remain', 'remak', 'remark', 'rememb', 'remind', 'reminisc', 'remot', 'renegad', 'renerusso', 'rennyharlin', 'renown', 'rent', 'renéezellweg', 'repair', 'repay', 'replac', 'report', 'reporter', 'repres', 'repress', 'reput', 'request', 'requir', 'rescu', 'rescue', 'research', 'resid', 'resist', 'resistance', 'resolv', 'resort', 'resourc', 'resources', 'respect', 'respond', 'respons', 'rest', 'restaur', 'restaurant', 'restor', 'result', 'results', 'resurfac', 'resurrect', 'retel', 'retir', 'retreat', 'retriev', 'return', 'reunion', 'reunit', 'reveal', 'revealed', 'revel', 'reveng', 'revenge', 'reverend', 'reviv', 'revolut', 'revolutionari', 'revolv', 'reward', 'rich', 'richard', 'richarddonn', 'richarddreyfuss', 'richardger', 'richardlinklat', 'rick', 'ricki', 'rid', 'riddl', 'ride', 'rider', 'ridicul', 'ridleyscott', 'rifl', 'rig', 'right', 'rightandjustic', 'riley', 'ring', 'riot', 'rip', 'ripley', 'rise', 'risk', 'ritual', 'rival', 'rivalri', 'river', 'road', 'roadmovi', 'roadtrip', 'roam', 'roar', 'rob', 'robber', 'robberi', 'robcohen', 'robert', 'robertdeniro', 'robertdowneyjr', 'robertduval', 'robertenglund', 'robertredford', 'robertrodriguez', 'robertzemecki', 'robin', 'robinson', 'robinwilliam', 'robinwright', 'robot', 'robrein', 'rock', 'rockandrol', 'rocket', 'rocki', 'rockstar', 'roger', 'rogerdonaldson', 'rogermoor', 'rogu', 'rolandemmerich', 'role', 'roll', 'roller', 'roman', 'romanc', 'romance', 'romant', 'romanticcomedi', 'rome', 'romeo', 'romero', 'ron', 'ronhoward', 'ronni', 'roof', 'rooftop', 'rooki', 'room', 'roommat', 'root', 'rosamundpik', 'rosariodawson', 'rose', 'rosebyrn', 'ross', 'rough', 'round', 'routin', 'row', 'roy', 'royal', 'royalti', 'rubi', 'rugbi', 'rugrat', 'ruin', 'rule', 'ruler', 'rules', 'rumor', 'run', 'runaway', 'runner', 'rupertgrint', 'rural', 'ruralset', 'rush', 'russel', 'russell', 'russellcrow', 'russia', 'russian', 'ruth', 'ruthless', 'ryan', 'ryangosl', 'ryanphillipp', 'ryanreynold', 'sabotag', 'sacr', 'sacrific', 'sad', 'sadism', 'sadist', 'safe', 'safeti', 'safety', 'saga', 'said', 'sail', 'sailor', 'saint', 'sale', 'salesman', 'salli', 'salmahayek', 'sam', 'samantha', 'samanthamorton', 'sammend', 'samneil', 'samraimi', 'samrockwel', 'samuel', 'samuell', 'samurai', 'san', 'sand', 'sandi', 'sandrabullock', 'sanfrancisco', 'santa', 'santaclau', 'sara', 'sarah', 'sarahjessicapark', 'sarahmichellegellar', 'sarapaxton', 'satan', 'satellit', 'satir', 'satisfi', 'savag', 'save', 'savingtheworld', 'saw', 'say', 'sbook', 'scam', 'scandal', 'scar', 'scare', 'scari', 'scarlettjohansson', 'scene', 'schedul', 'scheme', 'schizophrenia', 'scholarship', 'school', 'schoolteach', 'sci', 'scienc', 'sciencefict', 'scientif', 'scientist', 'score', 'scotland', 'scott', 'scottglenn', 'scottish', 'scout', 'scrambl', 'scream', 'screen', 'screenplay', 'screenwrit', 'script', 'scubadiv', 'sdailylif', 'sea', 'seal', 'sean', 'seanbean', 'seanconneri', 'seannwilliamscott', 'seanpenn', 'search', 'seas', 'seasid', 'season', 'seattl', 'sebastian', 'seclud', 'second', 'secret', 'secretag', 'secretari', 'secretident', 'secretintelligenceservic', 'secretli', 'secretlov', 'secretmiss', 'secretorgan', 'secrets', 'secretservic', 'secretsocieti', 'section', 'secur', 'securityguard', 'seduc', 'seduct', 'seek', 'seemingli', 'seen', 'seiz', 'sel', 'self', 'selfsacrific', 'sell', 'selmablair', 'semi', 'senat', 'send', 'senior', 'sens', 'sensat', 'sensit', 'sent', 'sentenc', 'seo', 'separ', 'sequel', 'sergeant', 'seri', 'serial', 'serialkil', 'series', 'seriesofmurd', 'seriou', 'seriously', 'serv', 'servant', 'servic', 'service', 'session', 'set', 'seth', 'sethgreen', 'sethrogen', 'settl', 'settler', 'sev', 'seven', 'sever', 'sewer', 'sex', 'sexaddict', 'sexi', 'sexual', 'sexualabus', 'sexualobsess', 'shadi', 'shadow', 'shadowi', 'shake', 'shaken', 'shakespear', 'shakespeare', 'shane', 'shanghai', 'shannynsossamon', 'shape', 'share', 'shark', 'sharkattack', 'sharonston', 'sharp', 'shatter', 'shaw', 'shawnlevi', 'shelter', 'shepherd', 'sheriff', 'shi', 'shialabeouf', 'shield', 'shift', 'ship', 'shipwreck', 'shock', 'shoe', 'shoot', 'shootout', 'shop', 'short', 'shot', 'shotgun', 'showdown', 'shower', 'shredder', 'shrek', 'shut', 'shuttl', 'shyness', 'sibl', 'sick', 'sid', 'sidekick', 'sidney', 'sight', 'sign', 'signal', 'sigourneyweav', 'silenc', 'silent', 'silentfilm', 'silver', 'similar', 'simon', 'simonpegg', 'simonwest', 'simpl', 'simpli', 'simpson', 'simultan', 'sin', 'sinc', 'sing', 'singer', 'singl', 'single', 'singlefath', 'singlemoth', 'singlepar', 'sinist', 'sir', 'sister', 'sisters', 'sistersisterrelationship', 'sit', 'site', 'sittingonatoilet', 'situat', 'situation', 'size', 'skateboard', 'skeleton', 'skeptic', 'ski', 'skill', 'skull', 'sky', 'skyscrap', 'slacker', 'slapstick', 'slasher', 'slaughter', 'slave', 'slaveri', 'slavery', 'sleazi', 'sleep', 'sleepi', 'sleepwalk', 'slif', 'slip', 'slowli', 'slum', 'small', 'smalltown', 'smart', 'smash', 'smith', 'smitten', 'smoke', 'smuggl', 'smuggler', 'smurf', 'snake', 'snatch', 'sniper', 'snow', 'snowstorm', 'soccer', 'social', 'societi', 'society', 'sociopath', 'sofia', 'solar', 'sold', 'soldi', 'soldier', 'soldiers', 'sole', 'solitari', 'solomon', 'solv', 'somebodi', 'someon', 'someth', 'sometim', 'somewhat', 'somewher', 'son', 'song', 'songwrit', 'soon', 'sophi', 'sorcer', 'sorcerer', 'sorceri', 'soror', 'sort', 'soul', 'sound', 'soundtrack', 'sour', 'south', 'southafrica', 'southern', 'southernusa', 'soviet', 'sovietunion', 'space', 'spacecraft', 'spacemarin', 'spacemiss', 'spaceopera', 'spaceship', 'spacetravel', 'spain', 'span', 'spanish', 'spark', 'speak', 'speci', 'special', 'specialist', 'spectacular', 'speech', 'speed', 'spell', 'spencer', 'spend', 'spent', 'spi', 'spider', 'spike', 'spikele', 'spin', 'spiral', 'spirit', 'spiritu', 'spite', 'spoil', 'spoof', 'sport', 'sportsteam', 'spot', 'spotlight', 'spread', 'spring', 'squad', 'squar', 'st', 'stab', 'stadium', 'staff', 'stage', 'stak', 'stake', 'stalk', 'stalker', 'stan', 'stand', 'stanley', 'star', 'starcrossedlov', 'stardom', 'starfleet', 'stark', 'start', 'state', 'states', 'station', 'statu', 'stay', 'steal', 'steampunk', 'steel', 'stella', 'step', 'stepfath', 'stephen', 'stephendorff', 'stephenfrear', 'stephenherek', 'stephenrea', 'stepmoth', 'steve', 'stevebuscemi', 'stevecarel', 'stevemartin', 'steven', 'stevenseag', 'stevensoderbergh', 'stevenspielberg', 'stevezahn', 'stewardess', 'stewart', 'stick', 'stir', 'stock', 'stockbrok', 'stolen', 'stone', 'stoneag', 'stoner', 'stop', 'stopmot', 'store', 'stori', 'stories', 'storm', 'story', 'straight', 'strain', 'strand', 'strang', 'stranger', 'strateg', 'strategi', 'stray', 'street', 'streetgang', 'streets', 'strength', 'stress', 'stretch', 'strict', 'strike', 'strikes', 'strip', 'stripclub', 'stripper', 'strive', 'strong', 'struggl', 'stu', 'stuart', 'stuck', 'student', 'students', 'studi', 'studio', 'stumbl', 'stun', 'stunt', 'stupid', 'style', 'su', 'sub', 'subject', 'submachinegun', 'submarin', 'subsequ', 'suburban', 'suburbia', 'subway', 'succeed', 'success', 'successful', 'successor', 'sudden', 'suddenli', 'sue', 'suffer', 'suggest', 'suicid', 'suicide', 'suicideattempt', 'suit', 'suitor', 'sullivan', 'summer', 'summon', 'sun', 'sunglass', 'super', 'supercomput', 'superhero', 'superhuman', 'superhumanstrength', 'superman', 'supermarket', 'supernatur', 'supernaturalpow', 'superpow', 'superstar', 'supervillain', 'supervisor', 'suppli', 'support', 'suppos', 'suppress', 'suppressedpast', 'sure', 'surf', 'surfac', 'surface', 'surfer', 'surgeon', 'surgeri', 'surpris', 'surreal', 'surround', 'surveil', 'surviv', 'survival', 'survive', 'survivor', 'survivors', 'susan', 'susansarandon', 'suspect', 'suspens', 'suspici', 'suspicion', 'swallow', 'sweep', 'sweet', 'sweetheart', 'swept', 'swimmingpool', 'swing', 'switch', 'sword', 'swordandsorceri', 'swordfight', 'swordplay', 'sylvesterstallon', 'symbol', 'tabl', 'tactic', 'tag', 'tail', 'tak', 'taken', 'tale', 'talent', 'talk', 'talkinganim', 'tall', 'tank', 'tap', 'tape', 'target', 'task', 'tast', 'tattoo', 'taxi', 'taxidriv', 'taylor', 'teach', 'teacher', 'team', 'tear', 'tech', 'technolog', 'technology', 'ted', 'teen', 'teenag', 'teenagecrush', 'teenagegirl', 'teenager', 'teenagers', 'teenagesexu', 'teencomedi', 'teenmovi', 'teens', 'telekinesi', 'telepathi', 'teleport', 'televis', 'tell', 'tens', 'tension', 'term', 'termin', 'terminalil', 'terrencehoward', 'terri', 'terribl', 'terrier', 'terrifi', 'territori', 'terror', 'terrorist', 'terrygilliam', 'tess', 'test', 'tested', 'texa', 'texas', 'th', 'thailand', 'thandienewton', 'thank', 'thanksgiv', 'theater', 'theatremilieu', 'theft', 'theme', 'themselv', 'theori', 'therapist', 'thi', 'thief', 'thiev', 'thing', 'things', 'think', 'thirst', 'thirti', 'thoma', 'thomashadenchurch', 'thomasjan', 'thompson', 'thought', 'thousand', 'threat', 'threaten', 'thrill', 'thriller', 'throne', 'throw', 'thrown', 'thrust', 'thu', 'thug', 'thwart', 'tibet', 'tick', 'ticket', 'tie', 'tiger', 'tildaswinton', 'tim', 'timallen', 'timburton', 'time', 'timeless', 'times', 'timetravel', 'timothyolyph', 'timrobbin', 'timroth', 'timstori', 'tini', 'tire', 'titan', 'titl', 'tobeymaguir', 'today', 'todd', 'toddphillip', 'togeth', 'tokyo', 'told', 'tom', 'tomcruis', 'tomhank', 'tomhardi', 'tommi', 'tommyleejon', 'tomshadyac', 'tomwilkinson', 'toni', 'tonicollett', 'tonyscott', 'took', 'tool', 'tooth', 'torment', 'torn', 'tornado', 'toronto', 'tortur', 'total', 'totalitarian', 'touch', 'tough', 'toughest', 'tour', 'tourist', 'tournament', 'tower', 'town', 'toxic', 'toy', 'toycomestolif', 'trace', 'track', 'trade', 'trader', 'tradit', 'traffic', 'traffick', 'tragedi', 'tragedy', 'tragic', 'trail', 'train', 'trainer', 'traitor', 'transfer', 'transform', 'transit', 'transplant', 'transport', 'trap', 'trauma', 'traumat', 'travel', 'treacher', 'treasur', 'treasurehunt', 'treat', 'treatment', 'tree', 'trek', 'tri', 'trial', 'triangl', 'triangle', 'tribe', 'trick', 'trigger', 'trio', 'trip', 'triumph', 'troop', 'tropic', 'troubl', 'trouble', 'troy', 'truck', 'trucker', 'true', 'truli', 'trust', 'truth', 'tsunami', 'tunnel', 'turbul', 'turmoil', 'turn', 'turned', 'turner', 'turtl', 'tv', 'tvmovi', 'tvshow', 'tvstation', 'twenti', 'twin', 'twinbroth', 'twist', 'tycoon', 'tyler', 'tylerperri', 'type', 'typic', 'tyrann', 'téaleoni', 'ufo', 'ugli', 'ultim', 'ultra', 'umathurman', 'unabl', 'unawar', 'unbeknownst', 'uncl', 'uncle', 'uncomfort', 'unconvent', 'uncov', 'undead', 'undercov', 'undercoverag', 'undercovercop', 'underdog', 'undergo', 'underground', 'understand', 'undertak', 'underwat', 'underworld', 'unemploy', 'unexpect', 'unexpectedli', 'unexplain', 'unfaith', 'unfold', 'unforgett', 'unfortun', 'unfortunately', 'unhappi', 'unimagin', 'union', 'uniqu', 'unit', 'univers', 'universe', 'university', 'unknown', 'unleash', 'unless', 'unlik', 'unlikelyfriendship', 'unlock', 'unorthodox', 'unpreced', 'unpredict', 'unravel', 'unrequitedlov', 'unsimulatedsex', 'unsoci', 'unstabl', 'unstopp', 'unsuspect', 'unusu', 'unveil', 'unwit', 'unwittingli', 'upcom', 'upper', 'upperclass', 'upris', 'upset', 'upsid', 'uptight', 'urban', 'urg', 'usa', 'usapresid', 'use', 'usual', 'utah', 'vacat', 'vacation', 'val', 'valentine', 'valkilm', 'valley', 'valu', 'valuabl', 'vampir', 'vampire', 'vampires', 'van', 'vandal', 'vanessa', 'vanessahudgen', 'vanish', 'varieti', 'variou', 'vast', 'vatican', 'vault', 'vega', 'vegas', 'vegetarian', 'veng', 'vengeanc', 'vengeance', 'venic', 'ventur', 'verafarmiga', 'verg', 'veri', 'version', 'verylittledialogu', 'vet', 'veteran', 'vice', 'viciou', 'victim', 'victims', 'victor', 'victori', 'victoria', 'victorian', 'victory', 'video', 'videogam', 'vienna', 'vietnam', 'vietnamveteran', 'vietnamwar', 'view', 'viewer', 'viggomortensen', 'vigilant', 'vike', 'villag', 'village', 'villain', 'vincent', 'vincevaughn', 'vindiesel', 'vineyard', 'violenc', 'violence', 'violent', 'virgin', 'virginia', 'virginiamadsen', 'virginity', 'virtual', 'virtualr', 'viru', 'vision', 'visit', 'visitor', 'visual', 'vlad', 'voic', 'voice', 'volatil', 'volcano', 'volunt', 'vomit', 'von', 'voodoo', 'vorort', 'vow', 'voyag', 'voyeur', 'wa', 'wacki', 'wade', 'wage', 'wager', 'wai', 'wait', 'waiter', 'waitress', 'wake', 'walk', 'walker', 'wall', 'wallet', 'wallstreet', 'walt', 'walter', 'wander', 'wang', 'want', 'war', 'warcrim', 'ward', 'warden', 'warehous', 'warhead', 'warlock', 'warlord', 'warm', 'warn', 'warondrug', 'warren', 'warrenbeatti', 'warrior', 'wars', 'warship', 'warveteran', 'wash', 'washington', 'washingtond', 'wasn', 'wast', 'wasteland', 'watch', 'water', 'wave', 'way', 'ways', 'weak', 'wealth', 'wealthi', 'weapon', 'weapons', 'wear', 'weather', 'web', 'wed', 'wedding', 'week', 'weekend', 'weird', 'welcom', 'went', 'werewolf', 'wesanderson', 'wesbentley', 'wescraven', 'wesley', 'wesleysnip', 'west', 'western', 'whale', 'whatev', 'wheelchair', 'whi', 'whip', 'whisk', 'white', 'whitehous', 'whoopigoldberg', 'wick', 'widow', 'wield', 'wif', 'wife', 'wifehusbandrelationship', 'wild', 'wilder', 'wilderness', 'wildli', 'willemdafo', 'willferrel', 'willi', 'william', 'williamh', 'williamhurt', 'williamshatn', 'willpatton', 'willsmith', 'wilson', 'win', 'wind', 'window', 'wine', 'wing', 'winner', 'winonaryd', 'winter', 'wipe', 'wise', 'wish', 'wit', 'witch', 'witchhunt', 'wizard', 'wolf', 'wolfgangpetersen', 'woman', 'womandirector', 'womanrel', 'women', 'won', 'wonder', 'woo', 'wood', 'woodi', 'woods', 'woodyallen', 'woodyharrelson', 'word', 'work', 'workahol', 'worker', 'workers', 'working', 'world', 'worlds', 'worldwari', 'worldwarii', 'worldwid', 'worri', 'wors', 'worse', 'worship', 'worst', 'worth', 'wound', 'wreak', 'wrestl', 'wrestler', 'wretch', 'wright', 'write', 'writer', 'written', 'wrong', 'wwii', 'wyom', 'xenophobia', 'yacht', 'yakuza', 'yard', 'year', 'yearn', 'years', 'yellow', 'york', 'yorker', 'young', 'youngadult', 'youngboy', 'younger', 'youngest', 'youngster', 'youth', 'yuppi', 'zacefron', 'zachgalifianaki', 'zacksnyd', 'zealand', 'zebra', 'zeu', 'zhangziyi', 'zoe', 'zoesaldana', 'zombi', 'zombies', 'zone', 'zoo', 'zooeydeschanel']\n"
     ]
    }
   ],
   "source": [
    "features = cv.get_feature_names_out()\n",
    "print(list(features))"
   ]
  },
  {
   "cell_type": "code",
   "execution_count": 42,
   "id": "805035f9-f004-4b9b-97fb-253679dafe80",
   "metadata": {},
   "outputs": [],
   "source": [
    "from sklearn.metrics.pairwise import cosine_similarity"
   ]
  },
  {
   "cell_type": "code",
   "execution_count": 48,
   "id": "38485317-5ea1-4d71-bdd0-be76ab4756af",
   "metadata": {},
   "outputs": [],
   "source": [
    "similarity = cosine_similarity(vectors)"
   ]
  },
  {
   "cell_type": "code",
   "execution_count": 59,
   "id": "54a4f348-4edd-4c10-866d-df092cb340d4",
   "metadata": {},
   "outputs": [],
   "source": [
    "def recommend(movie):\n",
    "    movie_index = data[data['title']==movie].index[0]\n",
    "    distances = similarity[movie_index]\n",
    "    movie_list = sorted(list(enumerate(distances)),reverse=True,key=lambda x:x[1])[1:6]\n",
    "    for i in movie_list:\n",
    "        print(data.iloc[i[0]].title)"
   ]
  },
  {
   "cell_type": "code",
   "execution_count": 61,
   "id": "9ff7e104-a593-4a19-bc44-e765f387655d",
   "metadata": {},
   "outputs": [
    {
     "name": "stdout",
     "output_type": "stream",
     "text": [
      "The Dark Knight\n",
      "Batman\n",
      "Batman\n",
      "The Dark Knight Rises\n",
      "10th & Wolf\n"
     ]
    }
   ],
   "source": [
    "recommend('Batman Begins')"
   ]
  },
  {
   "cell_type": "code",
   "execution_count": 62,
   "id": "d69e6242-f4e6-457d-86e4-821c5a6a1bf0",
   "metadata": {},
   "outputs": [],
   "source": [
    "import pickle"
   ]
  },
  {
   "cell_type": "code",
   "execution_count": 65,
   "id": "b36c7bc0-a3f7-4ca6-a069-79af902a2aa3",
   "metadata": {},
   "outputs": [],
   "source": [
    "pickle.dump(data.to_dict(),open('movies_dict1.pkl','wb'))"
   ]
  },
  {
   "cell_type": "code",
   "execution_count": 66,
   "id": "6f03366e-ae69-469a-918c-c53ee11653d6",
   "metadata": {},
   "outputs": [],
   "source": [
    "pickle.dump(similarity,open('similarity.pkl','wb'))"
   ]
  },
  {
   "cell_type": "code",
   "execution_count": 67,
   "id": "fbe3e356-22ee-495d-a41f-7c04ea90cf18",
   "metadata": {},
   "outputs": [
    {
     "name": "stdout",
     "output_type": "stream",
     "text": [
      "Aliens vs Predator: Requiem\n",
      "Aliens\n",
      "Falcon Rising\n",
      "Independence Day\n",
      "Titan A.E.\n"
     ]
    }
   ],
   "source": [
    "recommend('Avatar')"
   ]
  },
  {
   "cell_type": "code",
   "execution_count": null,
   "id": "d12182c3-4124-4ba7-baf0-a014da560b24",
   "metadata": {},
   "outputs": [],
   "source": []
  }
 ],
 "metadata": {
  "kernelspec": {
   "display_name": "Python 3 (ipykernel)",
   "language": "python",
   "name": "python3"
  },
  "language_info": {
   "codemirror_mode": {
    "name": "ipython",
    "version": 3
   },
   "file_extension": ".py",
   "mimetype": "text/x-python",
   "name": "python",
   "nbconvert_exporter": "python",
   "pygments_lexer": "ipython3",
   "version": "3.12.4"
  }
 },
 "nbformat": 4,
 "nbformat_minor": 5
}
